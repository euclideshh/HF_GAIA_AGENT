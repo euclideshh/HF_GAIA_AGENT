{
 "cells": [
  {
   "cell_type": "code",
   "execution_count": 1,
   "id": "7c34782b",
   "metadata": {},
   "outputs": [],
   "source": [
    "import os\n",
    "from dotenv import load_dotenv\n",
    "from datasets import load_dataset\n",
    "from smolagents import CodeAgent, LiteLLMModel\n",
    "import yaml\n",
    "from tools.final_answer import FinalAnswerTool\n",
    "from tools.math_operations import MathOperationsTool\n",
    "from tools.visit_webpage import VisitWebpageTool\n",
    "from tools.web_search import DuckDuckGoSearchTool\n",
    "from tools.wikipedia_search import WikipediaSearchTool\n",
    "from tools.arxiv_search import ArxivSearchTool\n",
    "from tools.rag_search import RAGSearchTool\n",
    "from tools.code_execution import CodeExecutionTool\n",
    "from tools.document_processing import DocumentProcessingTool\n",
    "from tools.image_processing import ImageProcessingTool\n",
    "from tools.web_scraping import WebScrapingTool"
   ]
  },
  {
   "cell_type": "code",
   "execution_count": 2,
   "id": "7270d888",
   "metadata": {},
   "outputs": [
    {
     "name": "stderr",
     "output_type": "stream",
     "text": [
      "c:\\repo\\courses\\agents\\Final_Project-HF_Agents_Course\\HF_GAIA_AGENT\\tools\\rag_search.py:32: LangChainDeprecationWarning: The class `HuggingFaceEmbeddings` was deprecated in LangChain 0.2.2 and will be removed in 1.0. An updated version of the class exists in the :class:`~langchain-huggingface package and should be used instead. To use it run `pip install -U :class:`~langchain-huggingface` and import as `from :class:`~langchain_huggingface import HuggingFaceEmbeddings``.\n",
      "  self.embeddings = HuggingFaceEmbeddings(\n"
     ]
    }
   ],
   "source": [
    "visit_webpage = VisitWebpageTool()\n",
    "internet_search = DuckDuckGoSearchTool(max_results=5)\n",
    "math_tools = MathOperationsTool()\n",
    "final_answer = FinalAnswerTool()\n",
    "wikipedia_search = WikipediaSearchTool(load_max_docs=2)\n",
    "arxiv_search = ArxivSearchTool(load_max_docs=3)\n",
    "rag_search = RAGSearchTool(persist_dir=\"rag_db\")\n",
    "code_execution = CodeExecutionTool()\n",
    "document_processing = DocumentProcessingTool(temp_dir=\"doc_processing\")\n",
    "image_generation_tool = ImageProcessingTool()\n",
    "web_scraping = WebScrapingTool()"
   ]
  },
  {
   "cell_type": "code",
   "execution_count": 3,
   "id": "af6443d2",
   "metadata": {},
   "outputs": [
    {
     "name": "stdout",
     "output_type": "stream",
     "text": [
      "arxiv_search sucess\n",
      "rag_search sucess\n",
      "document_processing sucess\n",
      "math_tools sucess\n",
      "internet_search sucess\n",
      "web_scraping sucess\n",
      "wikipedia_search sucess\n",
      "code_execution sucess\n",
      "document_processing sucess\n"
     ]
    }
   ],
   "source": [
    "# Testing the tools\n",
    "# arxiv_search\n",
    "papers = arxiv_search.forward(query=\"AI regulation submission date:2022-06\")\n",
    "print(\"arxiv_search sucess\")\n",
    "\n",
    "# rag_search\n",
    "rag_result = rag_search.forward(\n",
    "    action=\"add\",\n",
    "    content=papers,\n",
    "    metadata={\"topic\": \"transformers\", \"subtopic\": \"time_series\", \"year\": \"2023\"}\n",
    ")\n",
    "print(\"rag_search sucess\")\n",
    "\n",
    "# document_processing\n",
    "doc_analysis = document_processing.forward(\n",
    "    action=\"analyze_pdf\",\n",
    "    content=\"financial_report.pdf\",\n",
    "    query=\"What are the total revenue figures for 2021 and 2022?\"\n",
    ")\n",
    "print(\"document_processing sucess\")\n",
    "\n",
    "# math_tools\n",
    "growth = math_tools.forward(\n",
    "    operation=\"subtract\",\n",
    "    a=1.2,\n",
    "    b=1.5\n",
    ")\n",
    "print(\"math_tools sucess\")\n",
    "\n",
    "# internet_search\n",
    "search_results = internet_search.forward(query=\"latest deep learning frameworks comparison 2023\")\n",
    "print(\"internet_search sucess\")\n",
    "\n",
    "# web_scraping\n",
    "scrapping_content = web_scraping.forward(\n",
    "    url=\"https://www.datacamp.com/tutorial/how-transformers-work\",\n",
    "    action=\"element\",\n",
    "    selector=\"table.comparison\",\n",
    "    attributes=[\"class\"]\n",
    ")\n",
    "print(\"web_scraping sucess\")\n",
    "\n",
    "# wikipedia_search\n",
    "wikipedia_info = wikipedia_search.forward(query=\"deep learning frameworks\")\n",
    "print(\"wikipedia_search sucess\")\n",
    "\n",
    "# code_execution\n",
    "code = '''\n",
    "def divide_numbers(a, b):\n",
    "    if b == 0:\n",
    "        raise ValueError(\"Cannot divide by zero\")\n",
    "    return a / b\n",
    "    \n",
    "# Test the function\n",
    "print(divide_numbers(10, 2))\n",
    "print(divide_numbers(5, 5))\n",
    "'''\n",
    "result = code_execution.forward(code=code)\n",
    "print(\"code_execution sucess\")\n",
    "\n",
    "# document_processing\n",
    "text = document_processing.forward(\n",
    "    action=\"ocr\",\n",
    "    content=\"presentation.jpg\"\n",
    ")\n",
    "print(\"document_processing sucess\")\n"
   ]
  },
  {
   "cell_type": "code",
   "execution_count": 12,
   "id": "b4869b08",
   "metadata": {},
   "outputs": [
    {
     "name": "stdout",
     "output_type": "stream",
     "text": [
      "## Search Results\n",
      "\n",
      "[Top 10 Frameworks for Deep Learning for the Year 2023 - Analytics Insight](https://www.analyticsinsight.net/deep-learning/top-10-frameworks-for-deep-learning-for-the-year-2023)\n",
      "The top 10 frameworks for deep learning offer realistic and research-backed approaches to creating machine or deep learning algorithms, speeding up the process and resulting in considerably more accurate results than if the entire model were built from scratch. Let us look at the most important frameworks for deep learning for the year 2023.\n",
      "\n",
      "[Top 10 Deep Learning Frameworks You Need to Know in 2023 - Bellcorp Studio](https://www.bellcorpstudio.com/blog/top-10-deep-learning-frameworks-2023)\n",
      "Discover the top 10 deep learning frameworks that are expected to dominate the AI landscape in 2023. Our comprehensive guide covers the latest trends and innovations in the field, along with the key features and benefits of each framework. Whether you're a seasoned data scientist or just starting out, these tools are essential for building powerful AI models that can transform your business ...\n",
      "\n",
      "[Comparison of deep learning software - Wikipedia](https://en.wikipedia.org/wiki/Comparison_of_deep_learning_software)\n",
      "The following tables compare notable software frameworks, libraries, and computer programs for deep learning applications. Deep learning software by name. Software Creator ... MATLAB + Deep Learning Toolbox (formally Neural Network Toolbox) MathWorks: 1992 Proprietary: No Linux, macOS, Windows: C, C++, Java, MATLAB: MATLAB: No No\n",
      "\n",
      "[Unleashing Potential: The Best Deep Learning Frameworks of 2023](https://thepetiteintrovert.com/unleashing-potential-the-best-deep-learning-frameworks-of-2023/)\n",
      "4. MXNet. Overview: Apache MXNet is an open-source deep learning framework favored for its efficiency and flexibility, particularly in the context of Amazon Web Services (AWS). Features: Efficiency: Utilizes a hybrid front-end approach, allowing both imperative and symbolic programming. Multi-Language Support: MXNet offers APIs in various programming languages, including Python, R, Scala, and ...\n",
      "\n",
      "[Top 5 Machine Learning Frameworks for 2023 - Deepgram](https://deepgram.com/learn/top-5-machine-learning-frameworks-for-2023)\n",
      "Developers use Keras because it is a powerful and easy-to-use library for building deep learning models. It is designed to make deep learning more accessible and easier to use for developers of all skill levels. It also provides a high-level API for building complex neural networks, making it easier to experiment with different architectures.\n"
     ]
    }
   ],
   "source": [
    "search_results = internet_search.forward(query=\"latest deep learning frameworks comparison 2023\")\n",
    "print(search_results)"
   ]
  },
  {
   "cell_type": "code",
   "execution_count": 3,
   "id": "5206d7ec",
   "metadata": {},
   "outputs": [
    {
     "name": "stdout",
     "output_type": "stream",
     "text": [
      "PyMuPDF 1.25.5: Python bindings for the MuPDF 1.25.6 library (rebased implementation).\n",
      "Python 3.12 running on win32 (64-bit).\n",
      "\n"
     ]
    }
   ],
   "source": [
    "import fitz\n",
    "print(fitz.__doc__)"
   ]
  },
  {
   "cell_type": "code",
   "execution_count": 4,
   "id": "feb7916a",
   "metadata": {},
   "outputs": [],
   "source": [
    "doc = fitz.open(\"curso_illescas_01.pdf\") "
   ]
  },
  {
   "cell_type": "code",
   "execution_count": 4,
   "id": "8805ecfd",
   "metadata": {},
   "outputs": [],
   "source": [
    "customs_tools = [    \n",
    "    visit_webpage, \n",
    "    internet_search, \n",
    "    math_tools,\n",
    "    wikipedia_search, \n",
    "    arxiv_search,\n",
    "    rag_search,\n",
    "    web_scraping,\n",
    "    code_execution, \n",
    "    document_processing, \n",
    "    image_generation_tool,\n",
    "    final_answer\n",
    "]\n",
    "\n",
    "additional_imports = [\n",
    "    # Document processing\n",
    "    \"pymupdf\",                              # PDF reading\n",
    "    # HTTP & URLs\n",
    "    \"requests\",                             # HTTP client for REST calls :contentReference[oaicite:0]{index=0}\n",
    "    \"urllib.parse\",                         # URL parsing and construction :contentReference[oaicite:1]{index=1}\n",
    "\n",
    "    # Data formats\n",
    "    \"json\",                                 # JSON serialization/deserialization\n",
    "    \"csv\",                                  # CSV reading/writing\n",
    "    \"xml.etree.ElementTree\",                # XML parsing\n",
    "    \"bs4\",                                  # BeautifulSoup for HTML parsing\n",
    "\n",
    "    # Text processing\n",
    "    \"re\",                                   # Regular expressions\n",
    "\n",
    "    # File & OS\n",
    "    \"os\",                                   # OS interactions (env vars, paths)\n",
    "    \"sys\",                                  # Interpreter info\n",
    "    \"pathlib\",                              # Object‑oriented filesystem paths\n",
    "    \"subprocess\",                           # Safe subprocess calls\n",
    "\n",
    "    # Computation\n",
    "    \"math\",                                 # Advanced math functions\n",
    "    \"random\",                               # Random sampling and shuffling\n",
    "\n",
    "    # Date & time\n",
    "    \"datetime\",                             # Date/time parsing and arithmetic\n",
    "\n",
    "    # Data analysis\n",
    "    \"numpy\",                                # Numerical arrays :contentReference[oaicite:2]{index=2}\n",
    "    \"pandas\",                               # Tabular data manipulation\n",
    "\n",
    "    # Imaging\n",
    "    \"PIL.Image\",                            # Image loading/inspection\n",
    "\n",
    "    # Logging\n",
    "    \"logging\",                              # Structured debug/info logging    \n",
    "]"
   ]
  },
  {
   "cell_type": "code",
   "execution_count": 5,
   "id": "569e8967",
   "metadata": {},
   "outputs": [],
   "source": [
    "# 3. Inicializar modelo Ollama local\n",
    "local_model = LiteLLMModel(\n",
    "    model_id=\"ollama/qwen2.5-coder:7b\",    \n",
    "    #model_id=\"ollama/gemma3:1b\",    \n",
    "    api_base=\"http://localhost:11434\",\n",
    "    temperature=0,\n",
    "    max_tokens=2096,\n",
    "    request_timeout=900,\n",
    ")"
   ]
  },
  {
   "cell_type": "code",
   "execution_count": 6,
   "id": "04414dd8",
   "metadata": {},
   "outputs": [],
   "source": [
    "# Cargar las plantillas de los prompts\n",
    "with open(\"prompt.yaml\", 'r') as stream:\n",
    "    prompt_templates = yaml.safe_load(stream)"
   ]
  },
  {
   "cell_type": "code",
   "execution_count": 6,
   "id": "9f7dd4e2",
   "metadata": {},
   "outputs": [
    {
     "name": "stdout",
     "output_type": "stream",
     "text": [
      "OpenTelemetry Tracing Details\n",
      "|  Phoenix Project: default\n",
      "|  Span Processor: SimpleSpanProcessor\n",
      "|  Collector Endpoint: localhost:4317\n",
      "|  Transport: gRPC\n",
      "|  Transport Headers: {'user-agent': '****'}\n",
      "|  \n",
      "|  Using a default SpanProcessor. `add_span_processor` will overwrite this default.\n",
      "|  \n",
      "|  WARNING: It is strongly advised to use a BatchSpanProcessor in production environments.\n",
      "|  \n",
      "|  `register` has set this TracerProvider as the global OpenTelemetry default.\n",
      "|  To disable this behavior, call `register` with `set_global_tracer_provider=False`.\n",
      "\n"
     ]
    }
   ],
   "source": [
    "# Trace agent and send traces to Phoenix\n",
    "from phoenix.otel import register\n",
    "from openinference.instrumentation.smolagents import SmolagentsInstrumentor\n",
    "\n",
    "register()\n",
    "SmolagentsInstrumentor().instrument()"
   ]
  },
  {
   "cell_type": "code",
   "execution_count": 7,
   "id": "afcfdb64",
   "metadata": {},
   "outputs": [],
   "source": [
    "# 4. Crear agente con el modelo local\n",
    "agent = CodeAgent(\n",
    "    model=local_model,\n",
    "    tools = customs_tools, \n",
    "    additional_authorized_imports = additional_imports,\n",
    "    prompt_templates=prompt_templates,    \n",
    "    verbosity_level = 2,\n",
    "    max_steps=5,\n",
    ")"
   ]
  },
  {
   "cell_type": "code",
   "execution_count": 22,
   "id": "47ca8a86",
   "metadata": {},
   "outputs": [
    {
     "name": "stdout",
     "output_type": "stream",
     "text": [
      "{'system_prompt': 'You are an expert assistant with full access to following tools: {{ tools }}. \\nThese tools are basically Python functions which you can call with code.\\nTo solve the task, you must plan forward to proceed in a series of steps, in a cycle of \\'Thought:\\', \\'Code:\\', and \\'Observation:\\' sequences.\\nAt each step, in the \\'Thought:\\' sequence, you should first explain your reasoning towards solving the task and the tools that you want to use.\\nThen in the \\'Code:\\' sequence, you should write the code in simple Python. The code sequence must end with \\'<end_code>\\' sequence.\\nDuring each intermediate step, you can use \\'print()\\' to save whatever important information you will then need.\\nThese print outputs will then appear in the \\'Observation:\\' field, which will be available as input for the next step.\\nIn the end you have to return a final answer using the `final_answer` tool. \\n\\nHere are the rules you should always follow to solve your task:\\n1. Understand the task.\\n2. Plan out a series of steps.    \\n3. Always provide a \\'Thought:\\' sequence, and a \\'Code:\\\\n```py\\' sequence ending with \\'```<end_code>\\' sequence, else you will fail. \\n4. You should only use the following tools: {{ tools }}. Do not assume tools that don\\'t exist, this can cause runtime errors.\\n5. Never re-do a tool call that you previously did with the exact same parameters.\\n6. You can use imports in your code, but only from the following list of modules: {{ authorized_imports }}\\n7. Repeat the cycle until you call `final_answer(...)` with the correct answer.\\n \\nHere are examples for each tool:\\n---\\nTask 1 - Academic Research:\\n\"What does the latest research say about using transformers for time series forecasting? Find papers from 2023.\"\\n\\nThought: I\\'ll use arxiv_search to find recent papers about transformers and time series.\\nCode:\\n```py\\npapers = arxiv_search.forward(query=\"transformers time series forecasting year:2023\")\\nprint(papers)\\n```<end_code>\\nObservation: Found several relevant papers discussing transformer architectures for time series.\\n\\nThought: Let me store this information in the RAG database for future reference.\\nCode:\\n```py\\nrag_search.forward(\\n    action=\"add\",\\n    content=papers,\\n    metadata={\"topic\": \"transformers\", \"subtopic\": \"time_series\", \"year\": \"2023\"}\\n)\\nsummary = \"Recent research in 2023 shows that transformers are effective for time series forecasting, with key improvements in...\"\\nfinal_answer(summary)\\n```<end_code>\\n\\nTask 2 - Data Analysis:\\n\"Calculate the total revenue growth between 2021 and 2022 from this financial report PDF.\"\\n\\nThought: I\\'ll use document_processing to analyze the PDF and extract relevant information.\\nCode:\\n```py\\n# First analyze the PDF content\\nanalysis = document_processing.forward(\\n    action=\"analyze_pdf\",\\n    content=\"financial_report.pdf\",\\n    query=\"What are the total revenue figures for 2021 and 2022?\"\\n)\\nprint(analysis)\\n```<end_code>\\nObservation: Revenue 2021: $1.2M, 2022: $1.5M\\n\\nThought: Now calculate the growth percentage.\\nCode:\\n```py\\nrevenue_2021 = 1.2\\nrevenue_2022 = 1.5\\ngrowth = math_tools.forward(\\n    operation=\"subtract\",\\n    a=revenue_2022,\\n    b=revenue_2021\\n)\\npercentage = math_tools.forward(\\n    operation=\"divide\",\\n    a=growth,\\n    b=revenue_2021\\n)\\nresult = math_tools.forward(\\n    operation=\"multiply\",\\n    a=percentage,\\n    b=100\\n)\\nfinal_answer(f\"The revenue growth was {result}%\")\\n```<end_code>\\n\\nTask 3 - Web Research:\\n\"Find the latest deep learning frameworks and their key features.\"\\n\\nThought: I\\'ll combine web search with web scraping to get comprehensive information.\\nCode:\\n```py\\n# First search for relevant pages\\nsearch_results = web_search.forward(query=\"latest deep learning frameworks comparison 2023\")\\nprint(search_results)\\n```<end_code>\\nObservation: Found several relevant comparison articles.\\n\\nThought: Let\\'s scrape the most relevant page for detailed information.\\nCode:\\n```py\\ncontent = web_scraping.forward(\\n    url=\"https://example.com/dl-frameworks-2023\",\\n    action=\"element\",\\n    selector=\"table.comparison\",\\n    attributes=[\"class\"]\\n)\\nprint(content)\\n```<end_code>\\nObservation: Retrieved detailed comparison table.\\n\\nThought: Let\\'s verify this information from additional sources.\\nCode:\\n```py\\nwikipedia_info = wikipedia_search.forward(query=\"deep learning frameworks\")\\nfinal_answer(\"Based on combined sources, the latest deep learning frameworks and their key features are...\")\\n```<end_code>\\n\\nTask 4 - Code Analysis:\\n\"What\\'s wrong with this Python code? It\\'s giving division by zero errors.\"\\n\\nThought: I\\'ll use code_execution to test and debug the code.\\nCode:\\n```py\\ncode = \\'\\'\\'\\ndef divide_numbers(a, b):\\n    if b == 0:\\n        raise ValueError(\"Cannot divide by zero\")\\n    return a / b\\n    \\n# Test the function\\nprint(divide_numbers(10, 2))\\nprint(divide_numbers(5, 0))\\n\\'\\'\\'\\n\\nresult = code_execution.forward(code=code)\\nprint(result)\\n```<end_code>\\nObservation: Error in second test case.\\n\\nThought: Let\\'s fix the code and verify.\\nCode:\\n```py\\nfixed_code = \\'\\'\\'\\ndef divide_numbers(a, b):\\n    try:\\n        if b == 0:\\n            raise ValueError(\"Cannot divide by zero\")\\n        return a / b\\n    except ValueError as e:\\n        return str(e)\\n\\nprint(divide_numbers(10, 2))\\nprint(divide_numbers(5, 0))\\n\\'\\'\\'\\n\\nresult = code_execution.forward(code=fixed_code)\\nfinal_answer(\"The code had no error handling. Fixed by adding try-except block.\")\\n```<end_code>\\n\\nTask 5 - Multi-tool Research:\\n\"Find the impact of a recent machine learning paper and compare it with similar work.\"\\n\\nThought: This requires multiple steps using different tools.\\nCode:\\n```py\\n# First find recent papers\\npapers = arxiv_search.forward(query=\"machine learning impact 2023\")\\nprint(papers)\\n```<end_code>\\nObservation: Found several high-impact papers.\\n\\nThought: Let\\'s check online discussions about these papers.\\nCode:\\n```py\\nweb_results = web_search.forward(query=\"discussions about \" + papers[0][\"title\"])\\nprint(web_results)\\n```<end_code>\\nObservation: Found blog posts and discussions.\\n\\nThought: Let\\'s scrape detailed information from research websites.\\nCode:\\n```py\\ndetails = web_scraping.forward(\\n    url=web_results[0][\"url\"],\\n    action=\"text\"\\n  )\\n\\n# Store gathered information\\nrag_search.forward(\\n    action=\"add\",\\n    content=details,\\n    metadata={\"paper\": papers[0][\"title\"]}\\n  )\\n\\nfinal_answer(\"Based on the comprehensive analysis...\")\\n```<end_code>\\n\\nTask 6 - Image Analysis:\\n\"Extract the text from this conference presentation slide and summarize the key points.\"\\n\\nThought: I\\'ll use document_processing with OCR to extract text from the image.\\nCode:\\n```py\\n# First perform OCR\\ntext = document_processing.forward(\\n    action=\"ocr\",\\n    content=\"presentation.jpg\"\\n)\\nprint(\"Extracted text:\", text)\\n```<end_code>\\nObservation: Successfully extracted presentation text.\\n\\nThought: Let\\'s process and organize the information.\\nCode:\\n```py\\n# Store the information for future reference\\nrag_search.forward(\\n    action=\"add\",\\n    content=text,\\n    metadata={\"type\": \"presentation\", \"topic\": \"conference\"}\\n  )\\n\\nsummary = \"The key points from the presentation are...\"\\nfinal_answer(summary)\\n```<end_code>\\n\\n---', 'planning': {'initial_facts': 'Below I will present you a task.\\nYou will now build a comprehensive preparatory survey of which facts we have at our disposal and which ones we still need.\\nTo do so, you will have to read the task and identify things that must be discovered in order to successfully complete it.\\nDon\\'t make any assumptions. For each item, provide a thorough reasoning. Here is how you will structure this survey:\\n\\n---\\n### 1. Facts given in the task\\nList here the specific facts given in the task that could help you (there might be nothing here).\\n\\n### 2. Facts to look up\\nList here any facts that we may need to look up.\\nAlso list where to find each of these, for instance a website, a file... - maybe the task contains some sources that you should re-use here.\\n\\n### 3. Facts to derive\\nList here anything that we want to derive from the above by logical reasoning, for instance computation or simulation.\\n\\nKeep in mind that \"facts\" will typically be specific names, dates, values, etc. Your answer should use the below headings:\\n### 1. Facts given in the task\\n### 2. Facts to look up\\n### 3. Facts to derive\\nDo not add anything else.', 'initial_plan': \"You are a world expert at making efficient plans to solve any task using a set of carefully crafted tools.\\nNow for the given task, develop a step-by-step high-level plan taking into account the above inputs and list of facts.\\nThis plan should involve individual tasks based on the available tools, that if executed correctly will yield the correct answer.\\nDo not skip steps, do not add any superfluous steps. Only write the high-level plan, DO NOT DETAIL INDIVIDUAL TOOL CALLS.\\nAfter writing the final step of the plan, write the '\\\\n<end_plan>' tag and stop there.\\n\\nHere is your task:\\n\\nTask:\\n```\\n{{task}}\\n```\\nYou can leverage these tools:\\n{%- for tool in tools.values() %}\\n- {{ tool.name }}: {{ tool.description }}\\n    Takes inputs: {{tool.inputs}}\\n    Returns an output of type: {{tool.output_type}}\\n{%- endfor %}\\n\\n{%- if managed_agents and managed_agents.values() | list %}\\nYou can also give tasks to team members.\\nCalling a team member works the same as for calling a tool: simply, the only argument you can give in the call is 'request', a long string explaining your request.\\nGiven that this team member is a real human, you should be very verbose in your request.\\nHere is a list of the team members that you can call:\\n{%- for agent in managed_agents.values() %}\\n- {{ agent.name }}: {{ agent.description }}\\n{%- endfor %}\\n{%- else %}\\n{%- endif %}\\n\\nList of facts that you know:\\n```\\n{{answer_facts}}\\n```\\n\\nNow begin! Write your plan below.\", 'update_facts_pre_messages': 'You are a world expert at gathering known and unknown facts based on a conversation.\\nBelow you will find a task, and a history of attempts made to solve the task. You will have to produce a list of these:\\n### 1. Facts given in the task\\n### 2. Facts that we have learned\\n### 3. Facts still to look up\\n### 4. Facts still to derive\\nFind the task and history below:', 'update_facts_post_messages': \"Earlier we've built a list of facts.\\nBut since in your previous steps you may have learned useful new facts or invalidated some false ones.\\nPlease update your list of facts based on the previous history, and provide these headings:\\n### 1. Facts given in the task\\n### 2. Facts that we have learned\\n### 3. Facts still to look up\\n### 4. Facts still to derive\\nNow write your new list of facts below.\", 'update_plan_pre_messages': 'You are a world expert at making efficient plans to solve any task using a set of carefully crafted tools.\\nYou have been given a task:\\n```\\n{{task}}\\n```\\n\\nFind below the record of what has been tried so far to solve it. Then you will be asked to make an updated plan to solve the task.\\nIf the previous tries so far have met some success, you can make an updated plan based on these actions.\\nIf you are stalled, you can make a completely new plan starting from scratch.', 'update_plan_post_messages': \"You're still working towards solving this task:\\n```\\n{{task}}\\n```\\nYou can leverage these tools:\\n{%- for tool in tools.values() %}\\n- {{ tool.name }}: {{ tool.description }}\\n    Takes inputs: {{tool.inputs}}\\n    Returns an output of type: {{tool.output_type}}\\n{%- endfor %}\\n\\n{%- if managed_agents and managed_agents.values() | list %}\\nYou can also give tasks to team members.\\nCalling a team member works the same as for calling a tool: simply, the only argument you can give in the call is 'task'.\\nGiven that this team member is a real human, you should be very verbose in your task, it should be a long string providing informations as detailed as necessary.\\nHere is a list of the team members that you can call:\\n{%- for agent in managed_agents.values() %}\\n- {{ agent.name }}: {{ agent.description }}\\n{%- endfor %}\\n{%- else %}\\n{%- endif %}\\n\\nHere is the up to date list of facts that you know:\\n```\\n{{facts_update}}\\n```\\n\\nNow for the given task, develop a step-by-step high-level plan taking into account the above inputs and list of facts.\\nThis plan should involve individual tasks based on the available tools, that if executed correctly will yield the correct answer.\\nBeware that you have {remaining_steps} steps remaining.\\nDo not skip steps, do not add any superfluous steps. Only write the high-level plan, DO NOT DETAIL INDIVIDUAL TOOL CALLS.\\nAfter writing the final step of the plan, write the '\\\\n<end_plan>' tag and stop there.\\n\\nNow write your new plan below.\"}, 'managed_agent': {'task': \"You're a helpful agent named '{{name}}'.\\nYou have been submitted this task by your manager.\\n---\\nTask:\\n{{task}}\\n---\\nYou're helping your manager solve a wider task: so make sure to not provide a one-line answer, but give as much information as possible to give them a clear understanding of the answer.\\nYour final_answer WILL HAVE to contain these parts:\\n### 1. Task outcome (short version):\\n### 2. Task outcome (extremely detailed version):\\n### 3. Additional context (if relevant):\\n\\nPut all these in your final_answer tool, everything that you do not pass as an argument to final_answer will be lost.\\nAnd even if your task resolution is not successful, please return as much context as possible, so that your manager can act upon this feedback.\", 'report': \"Here is the final answer from your managed agent '{{name}}':\\n{{final_answer}}\"}}\n"
     ]
    }
   ],
   "source": [
    "print(agent.prompt_templates)\n"
   ]
  },
  {
   "cell_type": "code",
   "execution_count": 8,
   "id": "7c75e5e9",
   "metadata": {},
   "outputs": [],
   "source": [
    "dataset_validation = load_dataset(\n",
    "    \"gaia-benchmark/GAIA\",\n",
    "    '2023_all',    \n",
    "    split=\"validation\",\n",
    "    token=os.getenv(\"HF_TOKEN\"),    \n",
    "    trust_remote_code=True,\n",
    ")"
   ]
  },
  {
   "cell_type": "code",
   "execution_count": null,
   "id": "7bd8c9d8",
   "metadata": {},
   "outputs": [],
   "source": [
    "#dataset_test = load_dataset(\n",
    "#    \"gaia-benchmark/GAIA\",\n",
    "#    '2023_all',    \n",
    "#    split=\"test\",\n",
    "#    token=os.getenv(\"HF_TOKEN\"),\n",
    "#    trust_remote_code=True,\n",
    "#)"
   ]
  },
  {
   "cell_type": "code",
   "execution_count": 9,
   "id": "01adacdb",
   "metadata": {},
   "outputs": [
    {
     "name": "stdout",
     "output_type": "stream",
     "text": [
      "---- Test set ----\n",
      "{'task_id': 'c61d22de-5f6c-4958-a7f6-5e9707bd3466', 'Question': 'A paper about AI regulation that was originally submitted to arXiv.org in June 2022 shows a figure with three axes, where each axis has a label word at both ends. Which of these words is used to describe a type of society in a Physics and Society article submitted to arXiv.org on August 11, 2016?', 'Level': '2', 'Final answer': 'egalitarian', 'file_name': '', 'file_path': '', 'Annotator Metadata': {'Steps': '1. Go to arxiv.org and navigate to the Advanced Search page.\\n2. Enter \"AI regulation\" in the search box and select \"All fields\" from the dropdown.\\n3. Enter 2022-06-01 and 2022-07-01 into the date inputs, select \"Submission date (original)\", and submit the search.\\n4. Go through the search results to find the article that has a figure with three axes and labels on each end of the axes, titled \"Fairness in Agreement With European Values: An Interdisciplinary Perspective on AI Regulation\".\\n5. Note the six words used as labels: deontological, egalitarian, localized, standardized, utilitarian, and consequential.\\n6. Go back to arxiv.org\\n7. Find \"Physics and Society\" and go to the page for the \"Physics and Society\" category.\\n8. Note that the tag for this category is \"physics.soc-ph\".\\n9. Go to the Advanced Search page.\\n10. Enter \"physics.soc-ph\" in the search box and select \"All fields\" from the dropdown.\\n11. Enter 2016-08-11 and 2016-08-12 into the date inputs, select \"Submission date (original)\", and submit the search.\\n12. Search for instances of the six words in the results to find the paper titled \"Phase transition from egalitarian to hierarchical societies driven by competition between cognitive and social constraints\", indicating that \"egalitarian\" is the correct answer.', 'Number of steps': '12', 'How long did this take?': '8 minutes', 'Tools': '1. Web browser\\n2. Image recognition tools (to identify and parse a figure with three axes)', 'Number of tools': '2'}}\n"
     ]
    }
   ],
   "source": [
    "print(\"---- Test set ----\")\n",
    "indices = list(range(1))\n",
    "split_dataset_validation = dataset_validation.select(indices)\n",
    "for example in split_dataset_validation:\n",
    "    print(example)  "
   ]
  },
  {
   "cell_type": "code",
   "execution_count": null,
   "id": "48123d3a",
   "metadata": {},
   "outputs": [
    {
     "name": "stdout",
     "output_type": "stream",
     "text": [
      "Agent started running...\n"
     ]
    },
    {
     "data": {
      "text/html": [
       "<pre style=\"white-space:pre;overflow-x:auto;line-height:normal;font-family:Menlo,'DejaVu Sans Mono',consolas,'Courier New',monospace\"><span style=\"color: #d4b702; text-decoration-color: #d4b702\">╭──────────────────────────────────────────────────── </span><span style=\"color: #d4b702; text-decoration-color: #d4b702; font-weight: bold\">New run</span><span style=\"color: #d4b702; text-decoration-color: #d4b702\"> ────────────────────────────────────────────────────╮</span>\n",
       "<span style=\"color: #d4b702; text-decoration-color: #d4b702\">│</span>                                                                                                                 <span style=\"color: #d4b702; text-decoration-color: #d4b702\">│</span>\n",
       "<span style=\"color: #d4b702; text-decoration-color: #d4b702\">│</span> <span style=\"font-weight: bold\">A paper about AI regulation that was originally submitted to arXiv.org in June 2022 shows a figure with three </span>  <span style=\"color: #d4b702; text-decoration-color: #d4b702\">│</span>\n",
       "<span style=\"color: #d4b702; text-decoration-color: #d4b702\">│</span> <span style=\"font-weight: bold\">axes, where each axis has a label word at both ends. Which of these words is used to describe a type of society</span> <span style=\"color: #d4b702; text-decoration-color: #d4b702\">│</span>\n",
       "<span style=\"color: #d4b702; text-decoration-color: #d4b702\">│</span> <span style=\"font-weight: bold\">in a Physics and Society article submitted to arXiv.org on August 11, 2016?</span>                                     <span style=\"color: #d4b702; text-decoration-color: #d4b702\">│</span>\n",
       "<span style=\"color: #d4b702; text-decoration-color: #d4b702\">│</span>                                                                                                                 <span style=\"color: #d4b702; text-decoration-color: #d4b702\">│</span>\n",
       "<span style=\"color: #d4b702; text-decoration-color: #d4b702\">╰─ LiteLLMModel - ollama/qwen2.5-coder:7b ────────────────────────────────────────────────────────────────────────╯</span>\n",
       "</pre>\n"
      ],
      "text/plain": [
       "\u001b[38;2;212;183;2m╭─\u001b[0m\u001b[38;2;212;183;2m───────────────────────────────────────────────────\u001b[0m\u001b[38;2;212;183;2m \u001b[0m\u001b[1;38;2;212;183;2mNew run\u001b[0m\u001b[38;2;212;183;2m \u001b[0m\u001b[38;2;212;183;2m───────────────────────────────────────────────────\u001b[0m\u001b[38;2;212;183;2m─╮\u001b[0m\n",
       "\u001b[38;2;212;183;2m│\u001b[0m                                                                                                                 \u001b[38;2;212;183;2m│\u001b[0m\n",
       "\u001b[38;2;212;183;2m│\u001b[0m \u001b[1mA paper about AI regulation that was originally submitted to arXiv.org in June 2022 shows a figure with three \u001b[0m  \u001b[38;2;212;183;2m│\u001b[0m\n",
       "\u001b[38;2;212;183;2m│\u001b[0m \u001b[1maxes, where each axis has a label word at both ends. Which of these words is used to describe a type of society\u001b[0m \u001b[38;2;212;183;2m│\u001b[0m\n",
       "\u001b[38;2;212;183;2m│\u001b[0m \u001b[1min a Physics and Society article submitted to arXiv.org on August 11, 2016?\u001b[0m                                     \u001b[38;2;212;183;2m│\u001b[0m\n",
       "\u001b[38;2;212;183;2m│\u001b[0m                                                                                                                 \u001b[38;2;212;183;2m│\u001b[0m\n",
       "\u001b[38;2;212;183;2m╰─\u001b[0m\u001b[38;2;212;183;2m LiteLLMModel - ollama/qwen2.5-coder:7b \u001b[0m\u001b[38;2;212;183;2m───────────────────────────────────────────────────────────────────────\u001b[0m\u001b[38;2;212;183;2m─╯\u001b[0m\n"
      ]
     },
     "metadata": {},
     "output_type": "display_data"
    },
    {
     "data": {
      "text/html": [
       "<pre style=\"white-space:pre;overflow-x:auto;line-height:normal;font-family:Menlo,'DejaVu Sans Mono',consolas,'Courier New',monospace\"><span style=\"color: #d4b702; text-decoration-color: #d4b702\">━━━━━━━━━━━━━━━━━━━━━━━━━━━━━━━━━━━━━━━━━━━━━━━━━━━━━ </span><span style=\"font-weight: bold\">Step </span><span style=\"color: #008080; text-decoration-color: #008080; font-weight: bold\">1</span><span style=\"color: #d4b702; text-decoration-color: #d4b702\"> ━━━━━━━━━━━━━━━━━━━━━━━━━━━━━━━━━━━━━━━━━━━━━━━━━━━━━━</span>\n",
       "</pre>\n"
      ],
      "text/plain": [
       "\u001b[38;2;212;183;2m━━━━━━━━━━━━━━━━━━━━━━━━━━━━━━━━━━━━━━━━━━━━━━━━━━━━━ \u001b[0m\u001b[1mStep \u001b[0m\u001b[1;36m1\u001b[0m\u001b[38;2;212;183;2m ━━━━━━━━━━━━━━━━━━━━━━━━━━━━━━━━━━━━━━━━━━━━━━━━━━━━━━\u001b[0m\n"
      ]
     },
     "metadata": {},
     "output_type": "display_data"
    },
    {
     "data": {
      "text/html": [
       "<pre style=\"white-space:pre;overflow-x:auto;line-height:normal;font-family:Menlo,'DejaVu Sans Mono',consolas,'Courier New',monospace\"><span style=\"font-weight: bold; font-style: italic\">Output message of the LLM:</span> <span style=\"color: #d4b702; text-decoration-color: #d4b702\">────────────────────────────────────────────────────────────────────────────────────────</span>\n",
       "<span style=\"color: #e6edf3; text-decoration-color: #e6edf3; background-color: #0d1117\">Thought: To solve this task, I'll follow these steps:</span><span style=\"background-color: #0d1117\">                                                              </span>\n",
       "<span style=\"color: #ff7b72; text-decoration-color: #ff7b72; background-color: #0d1117\">1.</span><span style=\"color: #e6edf3; text-decoration-color: #e6edf3; background-color: #0d1117\"> Use the </span><span style=\"color: #a5d6ff; text-decoration-color: #a5d6ff; background-color: #0d1117\">`arxiv_search`</span><span style=\"color: #e6edf3; text-decoration-color: #e6edf3; background-color: #0d1117\"> tool to find the paper about AI regulation submitted to arXiv.org in June 2022.</span><span style=\"background-color: #0d1117\">          </span>\n",
       "<span style=\"color: #ff7b72; text-decoration-color: #ff7b72; background-color: #0d1117\">2.</span><span style=\"color: #e6edf3; text-decoration-color: #e6edf3; background-color: #0d1117\"> Extract the figure description from the paper and identify the three axes with their labels.</span><span style=\"background-color: #0d1117\">                    </span>\n",
       "<span style=\"color: #ff7b72; text-decoration-color: #ff7b72; background-color: #0d1117\">3.</span><span style=\"color: #e6edf3; text-decoration-color: #e6edf3; background-color: #0d1117\"> Use the </span><span style=\"color: #a5d6ff; text-decoration-color: #a5d6ff; background-color: #0d1117\">`wikipedia_search`</span><span style=\"color: #e6edf3; text-decoration-color: #e6edf3; background-color: #0d1117\"> tool to search for a Physics and Society article submitted to arXiv.org on August 11,</span>\n",
       "<span style=\"color: #e6edf3; text-decoration-color: #e6edf3; background-color: #0d1117\">2016.</span><span style=\"background-color: #0d1117\">                                                                                                              </span>\n",
       "<span style=\"color: #ff7b72; text-decoration-color: #ff7b72; background-color: #0d1117\">4.</span><span style=\"color: #e6edf3; text-decoration-color: #e6edf3; background-color: #0d1117\"> Compare the labels of the axes from step 2 with the content of the article from step 3 to find the matching </span><span style=\"background-color: #0d1117\">    </span>\n",
       "<span style=\"color: #e6edf3; text-decoration-color: #e6edf3; background-color: #0d1117\">word.</span><span style=\"background-color: #0d1117\">                                                                                                              </span>\n",
       "<span style=\"background-color: #0d1117\">                                                                                                                   </span>\n",
       "<span style=\"color: #e6edf3; text-decoration-color: #e6edf3; background-color: #0d1117\">Code:</span><span style=\"background-color: #0d1117\">                                                                                                              </span>\n",
       "<span style=\"color: #e6edf3; text-decoration-color: #e6edf3; background-color: #0d1117\">```py</span><span style=\"background-color: #0d1117\">                                                                                                              </span>\n",
       "<span style=\"color: #79c0ff; text-decoration-color: #79c0ff; background-color: #0d1117; font-weight: bold\"># Step 1: Search for the AI regulation paper</span><span style=\"background-color: #0d1117\">                                                                       </span>\n",
       "<span style=\"color: #e6edf3; text-decoration-color: #e6edf3; background-color: #0d1117\">ai_regulation_paper = arxiv_search.forward(query=\"AI regulation submission date:2022-06\")</span><span style=\"background-color: #0d1117\">                          </span>\n",
       "<span style=\"color: #e6edf3; text-decoration-color: #e6edf3; background-color: #0d1117\">print(ai_regulation_paper)</span><span style=\"background-color: #0d1117\">                                                                                         </span>\n",
       "<span style=\"color: #e6edf3; text-decoration-color: #e6edf3; background-color: #0d1117\">```&lt;end_code&gt;</span><span style=\"background-color: #0d1117\">                                                                                                      </span>\n",
       "</pre>\n"
      ],
      "text/plain": [
       "\u001b[1;3mOutput message of the LLM:\u001b[0m \u001b[38;2;212;183;2m────────────────────────────────────────────────────────────────────────────────────────\u001b[0m\n",
       "\u001b[38;2;230;237;243;48;2;13;17;23mThought:\u001b[0m\u001b[38;2;230;237;243;48;2;13;17;23m \u001b[0m\u001b[38;2;230;237;243;48;2;13;17;23mTo\u001b[0m\u001b[38;2;230;237;243;48;2;13;17;23m \u001b[0m\u001b[38;2;230;237;243;48;2;13;17;23msolve\u001b[0m\u001b[38;2;230;237;243;48;2;13;17;23m \u001b[0m\u001b[38;2;230;237;243;48;2;13;17;23mthis\u001b[0m\u001b[38;2;230;237;243;48;2;13;17;23m \u001b[0m\u001b[38;2;230;237;243;48;2;13;17;23mtask,\u001b[0m\u001b[38;2;230;237;243;48;2;13;17;23m \u001b[0m\u001b[38;2;230;237;243;48;2;13;17;23mI'll\u001b[0m\u001b[38;2;230;237;243;48;2;13;17;23m \u001b[0m\u001b[38;2;230;237;243;48;2;13;17;23mfollow\u001b[0m\u001b[38;2;230;237;243;48;2;13;17;23m \u001b[0m\u001b[38;2;230;237;243;48;2;13;17;23mthese\u001b[0m\u001b[38;2;230;237;243;48;2;13;17;23m \u001b[0m\u001b[38;2;230;237;243;48;2;13;17;23msteps:\u001b[0m\u001b[48;2;13;17;23m                                                              \u001b[0m\n",
       "\u001b[38;2;255;123;114;48;2;13;17;23m1.\u001b[0m\u001b[38;2;230;237;243;48;2;13;17;23m \u001b[0m\u001b[38;2;230;237;243;48;2;13;17;23mUse\u001b[0m\u001b[38;2;230;237;243;48;2;13;17;23m \u001b[0m\u001b[38;2;230;237;243;48;2;13;17;23mthe\u001b[0m\u001b[38;2;230;237;243;48;2;13;17;23m \u001b[0m\u001b[38;2;165;214;255;48;2;13;17;23m`arxiv_search`\u001b[0m\u001b[38;2;230;237;243;48;2;13;17;23m \u001b[0m\u001b[38;2;230;237;243;48;2;13;17;23mtool\u001b[0m\u001b[38;2;230;237;243;48;2;13;17;23m \u001b[0m\u001b[38;2;230;237;243;48;2;13;17;23mto\u001b[0m\u001b[38;2;230;237;243;48;2;13;17;23m \u001b[0m\u001b[38;2;230;237;243;48;2;13;17;23mfind\u001b[0m\u001b[38;2;230;237;243;48;2;13;17;23m \u001b[0m\u001b[38;2;230;237;243;48;2;13;17;23mthe\u001b[0m\u001b[38;2;230;237;243;48;2;13;17;23m \u001b[0m\u001b[38;2;230;237;243;48;2;13;17;23mpaper\u001b[0m\u001b[38;2;230;237;243;48;2;13;17;23m \u001b[0m\u001b[38;2;230;237;243;48;2;13;17;23mabout\u001b[0m\u001b[38;2;230;237;243;48;2;13;17;23m \u001b[0m\u001b[38;2;230;237;243;48;2;13;17;23mAI\u001b[0m\u001b[38;2;230;237;243;48;2;13;17;23m \u001b[0m\u001b[38;2;230;237;243;48;2;13;17;23mregulation\u001b[0m\u001b[38;2;230;237;243;48;2;13;17;23m \u001b[0m\u001b[38;2;230;237;243;48;2;13;17;23msubmitted\u001b[0m\u001b[38;2;230;237;243;48;2;13;17;23m \u001b[0m\u001b[38;2;230;237;243;48;2;13;17;23mto\u001b[0m\u001b[38;2;230;237;243;48;2;13;17;23m \u001b[0m\u001b[38;2;230;237;243;48;2;13;17;23marXiv.org\u001b[0m\u001b[38;2;230;237;243;48;2;13;17;23m \u001b[0m\u001b[38;2;230;237;243;48;2;13;17;23min\u001b[0m\u001b[38;2;230;237;243;48;2;13;17;23m \u001b[0m\u001b[38;2;230;237;243;48;2;13;17;23mJune\u001b[0m\u001b[38;2;230;237;243;48;2;13;17;23m \u001b[0m\u001b[38;2;230;237;243;48;2;13;17;23m2022.\u001b[0m\u001b[48;2;13;17;23m          \u001b[0m\n",
       "\u001b[38;2;255;123;114;48;2;13;17;23m2.\u001b[0m\u001b[38;2;230;237;243;48;2;13;17;23m \u001b[0m\u001b[38;2;230;237;243;48;2;13;17;23mExtract\u001b[0m\u001b[38;2;230;237;243;48;2;13;17;23m \u001b[0m\u001b[38;2;230;237;243;48;2;13;17;23mthe\u001b[0m\u001b[38;2;230;237;243;48;2;13;17;23m \u001b[0m\u001b[38;2;230;237;243;48;2;13;17;23mfigure\u001b[0m\u001b[38;2;230;237;243;48;2;13;17;23m \u001b[0m\u001b[38;2;230;237;243;48;2;13;17;23mdescription\u001b[0m\u001b[38;2;230;237;243;48;2;13;17;23m \u001b[0m\u001b[38;2;230;237;243;48;2;13;17;23mfrom\u001b[0m\u001b[38;2;230;237;243;48;2;13;17;23m \u001b[0m\u001b[38;2;230;237;243;48;2;13;17;23mthe\u001b[0m\u001b[38;2;230;237;243;48;2;13;17;23m \u001b[0m\u001b[38;2;230;237;243;48;2;13;17;23mpaper\u001b[0m\u001b[38;2;230;237;243;48;2;13;17;23m \u001b[0m\u001b[38;2;230;237;243;48;2;13;17;23mand\u001b[0m\u001b[38;2;230;237;243;48;2;13;17;23m \u001b[0m\u001b[38;2;230;237;243;48;2;13;17;23midentify\u001b[0m\u001b[38;2;230;237;243;48;2;13;17;23m \u001b[0m\u001b[38;2;230;237;243;48;2;13;17;23mthe\u001b[0m\u001b[38;2;230;237;243;48;2;13;17;23m \u001b[0m\u001b[38;2;230;237;243;48;2;13;17;23mthree\u001b[0m\u001b[38;2;230;237;243;48;2;13;17;23m \u001b[0m\u001b[38;2;230;237;243;48;2;13;17;23maxes\u001b[0m\u001b[38;2;230;237;243;48;2;13;17;23m \u001b[0m\u001b[38;2;230;237;243;48;2;13;17;23mwith\u001b[0m\u001b[38;2;230;237;243;48;2;13;17;23m \u001b[0m\u001b[38;2;230;237;243;48;2;13;17;23mtheir\u001b[0m\u001b[38;2;230;237;243;48;2;13;17;23m \u001b[0m\u001b[38;2;230;237;243;48;2;13;17;23mlabels.\u001b[0m\u001b[48;2;13;17;23m                    \u001b[0m\n",
       "\u001b[38;2;255;123;114;48;2;13;17;23m3.\u001b[0m\u001b[38;2;230;237;243;48;2;13;17;23m \u001b[0m\u001b[38;2;230;237;243;48;2;13;17;23mUse\u001b[0m\u001b[38;2;230;237;243;48;2;13;17;23m \u001b[0m\u001b[38;2;230;237;243;48;2;13;17;23mthe\u001b[0m\u001b[38;2;230;237;243;48;2;13;17;23m \u001b[0m\u001b[38;2;165;214;255;48;2;13;17;23m`wikipedia_search`\u001b[0m\u001b[38;2;230;237;243;48;2;13;17;23m \u001b[0m\u001b[38;2;230;237;243;48;2;13;17;23mtool\u001b[0m\u001b[38;2;230;237;243;48;2;13;17;23m \u001b[0m\u001b[38;2;230;237;243;48;2;13;17;23mto\u001b[0m\u001b[38;2;230;237;243;48;2;13;17;23m \u001b[0m\u001b[38;2;230;237;243;48;2;13;17;23msearch\u001b[0m\u001b[38;2;230;237;243;48;2;13;17;23m \u001b[0m\u001b[38;2;230;237;243;48;2;13;17;23mfor\u001b[0m\u001b[38;2;230;237;243;48;2;13;17;23m \u001b[0m\u001b[38;2;230;237;243;48;2;13;17;23ma\u001b[0m\u001b[38;2;230;237;243;48;2;13;17;23m \u001b[0m\u001b[38;2;230;237;243;48;2;13;17;23mPhysics\u001b[0m\u001b[38;2;230;237;243;48;2;13;17;23m \u001b[0m\u001b[38;2;230;237;243;48;2;13;17;23mand\u001b[0m\u001b[38;2;230;237;243;48;2;13;17;23m \u001b[0m\u001b[38;2;230;237;243;48;2;13;17;23mSociety\u001b[0m\u001b[38;2;230;237;243;48;2;13;17;23m \u001b[0m\u001b[38;2;230;237;243;48;2;13;17;23marticle\u001b[0m\u001b[38;2;230;237;243;48;2;13;17;23m \u001b[0m\u001b[38;2;230;237;243;48;2;13;17;23msubmitted\u001b[0m\u001b[38;2;230;237;243;48;2;13;17;23m \u001b[0m\u001b[38;2;230;237;243;48;2;13;17;23mto\u001b[0m\u001b[38;2;230;237;243;48;2;13;17;23m \u001b[0m\u001b[38;2;230;237;243;48;2;13;17;23marXiv.org\u001b[0m\u001b[38;2;230;237;243;48;2;13;17;23m \u001b[0m\u001b[38;2;230;237;243;48;2;13;17;23mon\u001b[0m\u001b[38;2;230;237;243;48;2;13;17;23m \u001b[0m\u001b[38;2;230;237;243;48;2;13;17;23mAugust\u001b[0m\u001b[38;2;230;237;243;48;2;13;17;23m \u001b[0m\u001b[38;2;230;237;243;48;2;13;17;23m11,\u001b[0m\n",
       "\u001b[38;2;230;237;243;48;2;13;17;23m2016.\u001b[0m\u001b[48;2;13;17;23m                                                                                                              \u001b[0m\n",
       "\u001b[38;2;255;123;114;48;2;13;17;23m4.\u001b[0m\u001b[38;2;230;237;243;48;2;13;17;23m \u001b[0m\u001b[38;2;230;237;243;48;2;13;17;23mCompare\u001b[0m\u001b[38;2;230;237;243;48;2;13;17;23m \u001b[0m\u001b[38;2;230;237;243;48;2;13;17;23mthe\u001b[0m\u001b[38;2;230;237;243;48;2;13;17;23m \u001b[0m\u001b[38;2;230;237;243;48;2;13;17;23mlabels\u001b[0m\u001b[38;2;230;237;243;48;2;13;17;23m \u001b[0m\u001b[38;2;230;237;243;48;2;13;17;23mof\u001b[0m\u001b[38;2;230;237;243;48;2;13;17;23m \u001b[0m\u001b[38;2;230;237;243;48;2;13;17;23mthe\u001b[0m\u001b[38;2;230;237;243;48;2;13;17;23m \u001b[0m\u001b[38;2;230;237;243;48;2;13;17;23maxes\u001b[0m\u001b[38;2;230;237;243;48;2;13;17;23m \u001b[0m\u001b[38;2;230;237;243;48;2;13;17;23mfrom\u001b[0m\u001b[38;2;230;237;243;48;2;13;17;23m \u001b[0m\u001b[38;2;230;237;243;48;2;13;17;23mstep\u001b[0m\u001b[38;2;230;237;243;48;2;13;17;23m \u001b[0m\u001b[38;2;230;237;243;48;2;13;17;23m2\u001b[0m\u001b[38;2;230;237;243;48;2;13;17;23m \u001b[0m\u001b[38;2;230;237;243;48;2;13;17;23mwith\u001b[0m\u001b[38;2;230;237;243;48;2;13;17;23m \u001b[0m\u001b[38;2;230;237;243;48;2;13;17;23mthe\u001b[0m\u001b[38;2;230;237;243;48;2;13;17;23m \u001b[0m\u001b[38;2;230;237;243;48;2;13;17;23mcontent\u001b[0m\u001b[38;2;230;237;243;48;2;13;17;23m \u001b[0m\u001b[38;2;230;237;243;48;2;13;17;23mof\u001b[0m\u001b[38;2;230;237;243;48;2;13;17;23m \u001b[0m\u001b[38;2;230;237;243;48;2;13;17;23mthe\u001b[0m\u001b[38;2;230;237;243;48;2;13;17;23m \u001b[0m\u001b[38;2;230;237;243;48;2;13;17;23marticle\u001b[0m\u001b[38;2;230;237;243;48;2;13;17;23m \u001b[0m\u001b[38;2;230;237;243;48;2;13;17;23mfrom\u001b[0m\u001b[38;2;230;237;243;48;2;13;17;23m \u001b[0m\u001b[38;2;230;237;243;48;2;13;17;23mstep\u001b[0m\u001b[38;2;230;237;243;48;2;13;17;23m \u001b[0m\u001b[38;2;230;237;243;48;2;13;17;23m3\u001b[0m\u001b[38;2;230;237;243;48;2;13;17;23m \u001b[0m\u001b[38;2;230;237;243;48;2;13;17;23mto\u001b[0m\u001b[38;2;230;237;243;48;2;13;17;23m \u001b[0m\u001b[38;2;230;237;243;48;2;13;17;23mfind\u001b[0m\u001b[38;2;230;237;243;48;2;13;17;23m \u001b[0m\u001b[38;2;230;237;243;48;2;13;17;23mthe\u001b[0m\u001b[38;2;230;237;243;48;2;13;17;23m \u001b[0m\u001b[38;2;230;237;243;48;2;13;17;23mmatching\u001b[0m\u001b[38;2;230;237;243;48;2;13;17;23m \u001b[0m\u001b[48;2;13;17;23m    \u001b[0m\n",
       "\u001b[38;2;230;237;243;48;2;13;17;23mword.\u001b[0m\u001b[48;2;13;17;23m                                                                                                              \u001b[0m\n",
       "\u001b[48;2;13;17;23m                                                                                                                   \u001b[0m\n",
       "\u001b[38;2;230;237;243;48;2;13;17;23mCode:\u001b[0m\u001b[48;2;13;17;23m                                                                                                              \u001b[0m\n",
       "\u001b[38;2;230;237;243;48;2;13;17;23m```py\u001b[0m\u001b[48;2;13;17;23m                                                                                                              \u001b[0m\n",
       "\u001b[1;38;2;121;192;255;48;2;13;17;23m# Step 1: Search for the AI regulation paper\u001b[0m\u001b[48;2;13;17;23m                                                                       \u001b[0m\n",
       "\u001b[38;2;230;237;243;48;2;13;17;23mai_regulation_paper\u001b[0m\u001b[38;2;230;237;243;48;2;13;17;23m \u001b[0m\u001b[38;2;230;237;243;48;2;13;17;23m=\u001b[0m\u001b[38;2;230;237;243;48;2;13;17;23m \u001b[0m\u001b[38;2;230;237;243;48;2;13;17;23marxiv_search.forward(query=\"AI\u001b[0m\u001b[38;2;230;237;243;48;2;13;17;23m \u001b[0m\u001b[38;2;230;237;243;48;2;13;17;23mregulation\u001b[0m\u001b[38;2;230;237;243;48;2;13;17;23m \u001b[0m\u001b[38;2;230;237;243;48;2;13;17;23msubmission\u001b[0m\u001b[38;2;230;237;243;48;2;13;17;23m \u001b[0m\u001b[38;2;230;237;243;48;2;13;17;23mdate:2022-06\")\u001b[0m\u001b[48;2;13;17;23m                          \u001b[0m\n",
       "\u001b[38;2;230;237;243;48;2;13;17;23mprint(ai_regulation_paper)\u001b[0m\u001b[48;2;13;17;23m                                                                                         \u001b[0m\n",
       "\u001b[38;2;230;237;243;48;2;13;17;23m```<end_code>\u001b[0m\u001b[48;2;13;17;23m                                                                                                      \u001b[0m\n"
      ]
     },
     "metadata": {},
     "output_type": "display_data"
    },
    {
     "data": {
      "text/html": [
       "<pre style=\"white-space:pre;overflow-x:auto;line-height:normal;font-family:Menlo,'DejaVu Sans Mono',consolas,'Courier New',monospace\"> ─ <span style=\"font-weight: bold\">Executing parsed code:</span> ──────────────────────────────────────────────────────────────────────────────────────── \n",
       "  <span style=\"color: #959077; text-decoration-color: #959077; background-color: #272822\"># Step 1: Search for the AI regulation paper</span><span style=\"background-color: #272822\">                                                                   </span>  \n",
       "  <span style=\"color: #f8f8f2; text-decoration-color: #f8f8f2; background-color: #272822\">ai_regulation_paper </span><span style=\"color: #ff4689; text-decoration-color: #ff4689; background-color: #272822\">=</span><span style=\"color: #f8f8f2; text-decoration-color: #f8f8f2; background-color: #272822\"> arxiv_search</span><span style=\"color: #ff4689; text-decoration-color: #ff4689; background-color: #272822\">.</span><span style=\"color: #f8f8f2; text-decoration-color: #f8f8f2; background-color: #272822\">forward(query</span><span style=\"color: #ff4689; text-decoration-color: #ff4689; background-color: #272822\">=</span><span style=\"color: #e6db74; text-decoration-color: #e6db74; background-color: #272822\">\"AI regulation submission date:2022-06\"</span><span style=\"color: #f8f8f2; text-decoration-color: #f8f8f2; background-color: #272822\">)</span><span style=\"background-color: #272822\">                      </span>  \n",
       "  <span style=\"color: #f8f8f2; text-decoration-color: #f8f8f2; background-color: #272822\">print(ai_regulation_paper)</span><span style=\"background-color: #272822\">                                                                                     </span>  \n",
       " ───────────────────────────────────────────────────────────────────────────────────────────────────────────────── \n",
       "</pre>\n"
      ],
      "text/plain": [
       " ─ \u001b[1mExecuting parsed code:\u001b[0m ──────────────────────────────────────────────────────────────────────────────────────── \n",
       "  \u001b[38;2;149;144;119;48;2;39;40;34m# Step 1: Search for the AI regulation paper\u001b[0m\u001b[48;2;39;40;34m                                                                   \u001b[0m  \n",
       "  \u001b[38;2;248;248;242;48;2;39;40;34mai_regulation_paper\u001b[0m\u001b[38;2;248;248;242;48;2;39;40;34m \u001b[0m\u001b[38;2;255;70;137;48;2;39;40;34m=\u001b[0m\u001b[38;2;248;248;242;48;2;39;40;34m \u001b[0m\u001b[38;2;248;248;242;48;2;39;40;34marxiv_search\u001b[0m\u001b[38;2;255;70;137;48;2;39;40;34m.\u001b[0m\u001b[38;2;248;248;242;48;2;39;40;34mforward\u001b[0m\u001b[38;2;248;248;242;48;2;39;40;34m(\u001b[0m\u001b[38;2;248;248;242;48;2;39;40;34mquery\u001b[0m\u001b[38;2;255;70;137;48;2;39;40;34m=\u001b[0m\u001b[38;2;230;219;116;48;2;39;40;34m\"\u001b[0m\u001b[38;2;230;219;116;48;2;39;40;34mAI regulation submission date:2022-06\u001b[0m\u001b[38;2;230;219;116;48;2;39;40;34m\"\u001b[0m\u001b[38;2;248;248;242;48;2;39;40;34m)\u001b[0m\u001b[48;2;39;40;34m                      \u001b[0m  \n",
       "  \u001b[38;2;248;248;242;48;2;39;40;34mprint\u001b[0m\u001b[38;2;248;248;242;48;2;39;40;34m(\u001b[0m\u001b[38;2;248;248;242;48;2;39;40;34mai_regulation_paper\u001b[0m\u001b[38;2;248;248;242;48;2;39;40;34m)\u001b[0m\u001b[48;2;39;40;34m                                                                                     \u001b[0m  \n",
       " ───────────────────────────────────────────────────────────────────────────────────────────────────────────────── \n"
      ]
     },
     "metadata": {},
     "output_type": "display_data"
    },
    {
     "data": {
      "text/html": [
       "<pre style=\"white-space:pre;overflow-x:auto;line-height:normal;font-family:Menlo,'DejaVu Sans Mono',consolas,'Courier New',monospace\"><span style=\"font-weight: bold\">Execution logs:</span>\n",
       "Error searching arXiv: ('Connection aborted.', ConnectionResetError(10054, 'An existing connection was forcibly \n",
       "closed by the remote host', None, 10054, None))\n",
       "\n",
       "Out: None\n",
       "</pre>\n"
      ],
      "text/plain": [
       "\u001b[1mExecution logs:\u001b[0m\n",
       "Error searching arXiv: ('Connection aborted.', ConnectionResetError(10054, 'An existing connection was forcibly \n",
       "closed by the remote host', None, 10054, None))\n",
       "\n",
       "Out: None\n"
      ]
     },
     "metadata": {},
     "output_type": "display_data"
    },
    {
     "data": {
      "text/html": [
       "<pre style=\"white-space:pre;overflow-x:auto;line-height:normal;font-family:Menlo,'DejaVu Sans Mono',consolas,'Courier New',monospace\"><span style=\"color: #7f7f7f; text-decoration-color: #7f7f7f\">[Step 1: Duration 402.13 seconds| Input tokens: 2,366 | Output tokens: 178]</span>\n",
       "</pre>\n"
      ],
      "text/plain": [
       "\u001b[2m[Step 1: Duration 402.13 seconds| Input tokens: 2,366 | Output tokens: 178]\u001b[0m\n"
      ]
     },
     "metadata": {},
     "output_type": "display_data"
    },
    {
     "data": {
      "text/html": [
       "<pre style=\"white-space:pre;overflow-x:auto;line-height:normal;font-family:Menlo,'DejaVu Sans Mono',consolas,'Courier New',monospace\"><span style=\"color: #d4b702; text-decoration-color: #d4b702\">━━━━━━━━━━━━━━━━━━━━━━━━━━━━━━━━━━━━━━━━━━━━━━━━━━━━━ </span><span style=\"font-weight: bold\">Step </span><span style=\"color: #008080; text-decoration-color: #008080; font-weight: bold\">2</span><span style=\"color: #d4b702; text-decoration-color: #d4b702\"> ━━━━━━━━━━━━━━━━━━━━━━━━━━━━━━━━━━━━━━━━━━━━━━━━━━━━━━</span>\n",
       "</pre>\n"
      ],
      "text/plain": [
       "\u001b[38;2;212;183;2m━━━━━━━━━━━━━━━━━━━━━━━━━━━━━━━━━━━━━━━━━━━━━━━━━━━━━ \u001b[0m\u001b[1mStep \u001b[0m\u001b[1;36m2\u001b[0m\u001b[38;2;212;183;2m ━━━━━━━━━━━━━━━━━━━━━━━━━━━━━━━━━━━━━━━━━━━━━━━━━━━━━━\u001b[0m\n"
      ]
     },
     "metadata": {},
     "output_type": "display_data"
    },
    {
     "data": {
      "text/html": [
       "<pre style=\"white-space:pre;overflow-x:auto;line-height:normal;font-family:Menlo,'DejaVu Sans Mono',consolas,'Courier New',monospace\"><span style=\"font-weight: bold; font-style: italic\">Output message of the LLM:</span> <span style=\"color: #d4b702; text-decoration-color: #d4b702\">────────────────────────────────────────────────────────────────────────────────────────</span>\n",
       "<span style=\"color: #e6edf3; text-decoration-color: #e6edf3; background-color: #0d1117\">Thought: The error suggests that there might be an issue with the network connection or the arXiv search tool. </span><span style=\"background-color: #0d1117\">    </span>\n",
       "<span style=\"color: #e6edf3; text-decoration-color: #e6edf3; background-color: #0d1117\">Let's try a different approach to find the paper.</span><span style=\"background-color: #0d1117\">                                                                  </span>\n",
       "<span style=\"background-color: #0d1117\">                                                                                                                   </span>\n",
       "<span style=\"color: #e6edf3; text-decoration-color: #e6edf3; background-color: #0d1117\">Code:</span><span style=\"background-color: #0d1117\">                                                                                                              </span>\n",
       "<span style=\"color: #e6edf3; text-decoration-color: #e6edf3; background-color: #0d1117\">```py</span><span style=\"background-color: #0d1117\">                                                                                                              </span>\n",
       "<span style=\"color: #79c0ff; text-decoration-color: #79c0ff; background-color: #0d1117; font-weight: bold\"># Step 1: Search for the AI regulation paper using a different query format</span><span style=\"background-color: #0d1117\">                                        </span>\n",
       "<span style=\"color: #e6edf3; text-decoration-color: #e6edf3; background-color: #0d1117\">ai_regulation_paper = arxiv_search.forward(query=\"AI regulation June 2022\")</span><span style=\"background-color: #0d1117\">                                        </span>\n",
       "<span style=\"color: #e6edf3; text-decoration-color: #e6edf3; background-color: #0d1117\">print(ai_regulation_paper)</span><span style=\"background-color: #0d1117\">                                                                                         </span>\n",
       "<span style=\"color: #e6edf3; text-decoration-color: #e6edf3; background-color: #0d1117\">```&lt;end_code&gt;</span><span style=\"background-color: #0d1117\">                                                                                                      </span>\n",
       "</pre>\n"
      ],
      "text/plain": [
       "\u001b[1;3mOutput message of the LLM:\u001b[0m \u001b[38;2;212;183;2m────────────────────────────────────────────────────────────────────────────────────────\u001b[0m\n",
       "\u001b[38;2;230;237;243;48;2;13;17;23mThought:\u001b[0m\u001b[38;2;230;237;243;48;2;13;17;23m \u001b[0m\u001b[38;2;230;237;243;48;2;13;17;23mThe\u001b[0m\u001b[38;2;230;237;243;48;2;13;17;23m \u001b[0m\u001b[38;2;230;237;243;48;2;13;17;23merror\u001b[0m\u001b[38;2;230;237;243;48;2;13;17;23m \u001b[0m\u001b[38;2;230;237;243;48;2;13;17;23msuggests\u001b[0m\u001b[38;2;230;237;243;48;2;13;17;23m \u001b[0m\u001b[38;2;230;237;243;48;2;13;17;23mthat\u001b[0m\u001b[38;2;230;237;243;48;2;13;17;23m \u001b[0m\u001b[38;2;230;237;243;48;2;13;17;23mthere\u001b[0m\u001b[38;2;230;237;243;48;2;13;17;23m \u001b[0m\u001b[38;2;230;237;243;48;2;13;17;23mmight\u001b[0m\u001b[38;2;230;237;243;48;2;13;17;23m \u001b[0m\u001b[38;2;230;237;243;48;2;13;17;23mbe\u001b[0m\u001b[38;2;230;237;243;48;2;13;17;23m \u001b[0m\u001b[38;2;230;237;243;48;2;13;17;23man\u001b[0m\u001b[38;2;230;237;243;48;2;13;17;23m \u001b[0m\u001b[38;2;230;237;243;48;2;13;17;23missue\u001b[0m\u001b[38;2;230;237;243;48;2;13;17;23m \u001b[0m\u001b[38;2;230;237;243;48;2;13;17;23mwith\u001b[0m\u001b[38;2;230;237;243;48;2;13;17;23m \u001b[0m\u001b[38;2;230;237;243;48;2;13;17;23mthe\u001b[0m\u001b[38;2;230;237;243;48;2;13;17;23m \u001b[0m\u001b[38;2;230;237;243;48;2;13;17;23mnetwork\u001b[0m\u001b[38;2;230;237;243;48;2;13;17;23m \u001b[0m\u001b[38;2;230;237;243;48;2;13;17;23mconnection\u001b[0m\u001b[38;2;230;237;243;48;2;13;17;23m \u001b[0m\u001b[38;2;230;237;243;48;2;13;17;23mor\u001b[0m\u001b[38;2;230;237;243;48;2;13;17;23m \u001b[0m\u001b[38;2;230;237;243;48;2;13;17;23mthe\u001b[0m\u001b[38;2;230;237;243;48;2;13;17;23m \u001b[0m\u001b[38;2;230;237;243;48;2;13;17;23marXiv\u001b[0m\u001b[38;2;230;237;243;48;2;13;17;23m \u001b[0m\u001b[38;2;230;237;243;48;2;13;17;23msearch\u001b[0m\u001b[38;2;230;237;243;48;2;13;17;23m \u001b[0m\u001b[38;2;230;237;243;48;2;13;17;23mtool.\u001b[0m\u001b[38;2;230;237;243;48;2;13;17;23m \u001b[0m\u001b[48;2;13;17;23m    \u001b[0m\n",
       "\u001b[38;2;230;237;243;48;2;13;17;23mLet's\u001b[0m\u001b[38;2;230;237;243;48;2;13;17;23m \u001b[0m\u001b[38;2;230;237;243;48;2;13;17;23mtry\u001b[0m\u001b[38;2;230;237;243;48;2;13;17;23m \u001b[0m\u001b[38;2;230;237;243;48;2;13;17;23ma\u001b[0m\u001b[38;2;230;237;243;48;2;13;17;23m \u001b[0m\u001b[38;2;230;237;243;48;2;13;17;23mdifferent\u001b[0m\u001b[38;2;230;237;243;48;2;13;17;23m \u001b[0m\u001b[38;2;230;237;243;48;2;13;17;23mapproach\u001b[0m\u001b[38;2;230;237;243;48;2;13;17;23m \u001b[0m\u001b[38;2;230;237;243;48;2;13;17;23mto\u001b[0m\u001b[38;2;230;237;243;48;2;13;17;23m \u001b[0m\u001b[38;2;230;237;243;48;2;13;17;23mfind\u001b[0m\u001b[38;2;230;237;243;48;2;13;17;23m \u001b[0m\u001b[38;2;230;237;243;48;2;13;17;23mthe\u001b[0m\u001b[38;2;230;237;243;48;2;13;17;23m \u001b[0m\u001b[38;2;230;237;243;48;2;13;17;23mpaper.\u001b[0m\u001b[48;2;13;17;23m                                                                  \u001b[0m\n",
       "\u001b[48;2;13;17;23m                                                                                                                   \u001b[0m\n",
       "\u001b[38;2;230;237;243;48;2;13;17;23mCode:\u001b[0m\u001b[48;2;13;17;23m                                                                                                              \u001b[0m\n",
       "\u001b[38;2;230;237;243;48;2;13;17;23m```py\u001b[0m\u001b[48;2;13;17;23m                                                                                                              \u001b[0m\n",
       "\u001b[1;38;2;121;192;255;48;2;13;17;23m# Step 1: Search for the AI regulation paper using a different query format\u001b[0m\u001b[48;2;13;17;23m                                        \u001b[0m\n",
       "\u001b[38;2;230;237;243;48;2;13;17;23mai_regulation_paper\u001b[0m\u001b[38;2;230;237;243;48;2;13;17;23m \u001b[0m\u001b[38;2;230;237;243;48;2;13;17;23m=\u001b[0m\u001b[38;2;230;237;243;48;2;13;17;23m \u001b[0m\u001b[38;2;230;237;243;48;2;13;17;23marxiv_search.forward(query=\"AI\u001b[0m\u001b[38;2;230;237;243;48;2;13;17;23m \u001b[0m\u001b[38;2;230;237;243;48;2;13;17;23mregulation\u001b[0m\u001b[38;2;230;237;243;48;2;13;17;23m \u001b[0m\u001b[38;2;230;237;243;48;2;13;17;23mJune\u001b[0m\u001b[38;2;230;237;243;48;2;13;17;23m \u001b[0m\u001b[38;2;230;237;243;48;2;13;17;23m2022\")\u001b[0m\u001b[48;2;13;17;23m                                        \u001b[0m\n",
       "\u001b[38;2;230;237;243;48;2;13;17;23mprint(ai_regulation_paper)\u001b[0m\u001b[48;2;13;17;23m                                                                                         \u001b[0m\n",
       "\u001b[38;2;230;237;243;48;2;13;17;23m```<end_code>\u001b[0m\u001b[48;2;13;17;23m                                                                                                      \u001b[0m\n"
      ]
     },
     "metadata": {},
     "output_type": "display_data"
    },
    {
     "data": {
      "text/html": [
       "<pre style=\"white-space:pre;overflow-x:auto;line-height:normal;font-family:Menlo,'DejaVu Sans Mono',consolas,'Courier New',monospace\"> ─ <span style=\"font-weight: bold\">Executing parsed code:</span> ──────────────────────────────────────────────────────────────────────────────────────── \n",
       "  <span style=\"color: #959077; text-decoration-color: #959077; background-color: #272822\"># Step 1: Search for the AI regulation paper using a different query format</span><span style=\"background-color: #272822\">                                    </span>  \n",
       "  <span style=\"color: #f8f8f2; text-decoration-color: #f8f8f2; background-color: #272822\">ai_regulation_paper </span><span style=\"color: #ff4689; text-decoration-color: #ff4689; background-color: #272822\">=</span><span style=\"color: #f8f8f2; text-decoration-color: #f8f8f2; background-color: #272822\"> arxiv_search</span><span style=\"color: #ff4689; text-decoration-color: #ff4689; background-color: #272822\">.</span><span style=\"color: #f8f8f2; text-decoration-color: #f8f8f2; background-color: #272822\">forward(query</span><span style=\"color: #ff4689; text-decoration-color: #ff4689; background-color: #272822\">=</span><span style=\"color: #e6db74; text-decoration-color: #e6db74; background-color: #272822\">\"AI regulation June 2022\"</span><span style=\"color: #f8f8f2; text-decoration-color: #f8f8f2; background-color: #272822\">)</span><span style=\"background-color: #272822\">                                    </span>  \n",
       "  <span style=\"color: #f8f8f2; text-decoration-color: #f8f8f2; background-color: #272822\">print(ai_regulation_paper)</span><span style=\"background-color: #272822\">                                                                                     </span>  \n",
       " ───────────────────────────────────────────────────────────────────────────────────────────────────────────────── \n",
       "</pre>\n"
      ],
      "text/plain": [
       " ─ \u001b[1mExecuting parsed code:\u001b[0m ──────────────────────────────────────────────────────────────────────────────────────── \n",
       "  \u001b[38;2;149;144;119;48;2;39;40;34m# Step 1: Search for the AI regulation paper using a different query format\u001b[0m\u001b[48;2;39;40;34m                                    \u001b[0m  \n",
       "  \u001b[38;2;248;248;242;48;2;39;40;34mai_regulation_paper\u001b[0m\u001b[38;2;248;248;242;48;2;39;40;34m \u001b[0m\u001b[38;2;255;70;137;48;2;39;40;34m=\u001b[0m\u001b[38;2;248;248;242;48;2;39;40;34m \u001b[0m\u001b[38;2;248;248;242;48;2;39;40;34marxiv_search\u001b[0m\u001b[38;2;255;70;137;48;2;39;40;34m.\u001b[0m\u001b[38;2;248;248;242;48;2;39;40;34mforward\u001b[0m\u001b[38;2;248;248;242;48;2;39;40;34m(\u001b[0m\u001b[38;2;248;248;242;48;2;39;40;34mquery\u001b[0m\u001b[38;2;255;70;137;48;2;39;40;34m=\u001b[0m\u001b[38;2;230;219;116;48;2;39;40;34m\"\u001b[0m\u001b[38;2;230;219;116;48;2;39;40;34mAI regulation June 2022\u001b[0m\u001b[38;2;230;219;116;48;2;39;40;34m\"\u001b[0m\u001b[38;2;248;248;242;48;2;39;40;34m)\u001b[0m\u001b[48;2;39;40;34m                                    \u001b[0m  \n",
       "  \u001b[38;2;248;248;242;48;2;39;40;34mprint\u001b[0m\u001b[38;2;248;248;242;48;2;39;40;34m(\u001b[0m\u001b[38;2;248;248;242;48;2;39;40;34mai_regulation_paper\u001b[0m\u001b[38;2;248;248;242;48;2;39;40;34m)\u001b[0m\u001b[48;2;39;40;34m                                                                                     \u001b[0m  \n",
       " ───────────────────────────────────────────────────────────────────────────────────────────────────────────────── \n"
      ]
     },
     "metadata": {},
     "output_type": "display_data"
    },
    {
     "data": {
      "text/html": [
       "<pre style=\"white-space:pre;overflow-x:auto;line-height:normal;font-family:Menlo,'DejaVu Sans Mono',consolas,'Courier New',monospace\"><span style=\"font-weight: bold\">Execution logs:</span>\n",
       "Error searching arXiv: ('Connection aborted.', ConnectionResetError(10054, 'An existing connection was forcibly \n",
       "closed by the remote host', None, 10054, None))\n",
       "\n",
       "Out: None\n",
       "</pre>\n"
      ],
      "text/plain": [
       "\u001b[1mExecution logs:\u001b[0m\n",
       "Error searching arXiv: ('Connection aborted.', ConnectionResetError(10054, 'An existing connection was forcibly \n",
       "closed by the remote host', None, 10054, None))\n",
       "\n",
       "Out: None\n"
      ]
     },
     "metadata": {},
     "output_type": "display_data"
    },
    {
     "data": {
      "text/html": [
       "<pre style=\"white-space:pre;overflow-x:auto;line-height:normal;font-family:Menlo,'DejaVu Sans Mono',consolas,'Courier New',monospace\"><span style=\"color: #7f7f7f; text-decoration-color: #7f7f7f\">[Step 2: Duration 109.54 seconds| Input tokens: 5,058 | Output tokens: 265]</span>\n",
       "</pre>\n"
      ],
      "text/plain": [
       "\u001b[2m[Step 2: Duration 109.54 seconds| Input tokens: 5,058 | Output tokens: 265]\u001b[0m\n"
      ]
     },
     "metadata": {},
     "output_type": "display_data"
    },
    {
     "data": {
      "text/html": [
       "<pre style=\"white-space:pre;overflow-x:auto;line-height:normal;font-family:Menlo,'DejaVu Sans Mono',consolas,'Courier New',monospace\"><span style=\"color: #d4b702; text-decoration-color: #d4b702\">━━━━━━━━━━━━━━━━━━━━━━━━━━━━━━━━━━━━━━━━━━━━━━━━━━━━━ </span><span style=\"font-weight: bold\">Step </span><span style=\"color: #008080; text-decoration-color: #008080; font-weight: bold\">3</span><span style=\"color: #d4b702; text-decoration-color: #d4b702\"> ━━━━━━━━━━━━━━━━━━━━━━━━━━━━━━━━━━━━━━━━━━━━━━━━━━━━━━</span>\n",
       "</pre>\n"
      ],
      "text/plain": [
       "\u001b[38;2;212;183;2m━━━━━━━━━━━━━━━━━━━━━━━━━━━━━━━━━━━━━━━━━━━━━━━━━━━━━ \u001b[0m\u001b[1mStep \u001b[0m\u001b[1;36m3\u001b[0m\u001b[38;2;212;183;2m ━━━━━━━━━━━━━━━━━━━━━━━━━━━━━━━━━━━━━━━━━━━━━━━━━━━━━━\u001b[0m\n"
      ]
     },
     "metadata": {},
     "output_type": "display_data"
    },
    {
     "data": {
      "text/html": [
       "<pre style=\"white-space:pre;overflow-x:auto;line-height:normal;font-family:Menlo,'DejaVu Sans Mono',consolas,'Courier New',monospace\"><span style=\"font-weight: bold; font-style: italic\">Output message of the LLM:</span> <span style=\"color: #d4b702; text-decoration-color: #d4b702\">────────────────────────────────────────────────────────────────────────────────────────</span>\n",
       "<span style=\"color: #e6edf3; text-decoration-color: #e6edf3; background-color: #0d1117\">Thought: The repeated errors suggest that there might be an issue with accessing the arXiv search tool. Let's try </span><span style=\"background-color: #0d1117\"> </span>\n",
       "<span style=\"color: #e6edf3; text-decoration-color: #e6edf3; background-color: #0d1117\">using a different method to find the paper.</span><span style=\"background-color: #0d1117\">                                                                        </span>\n",
       "<span style=\"background-color: #0d1117\">                                                                                                                   </span>\n",
       "<span style=\"color: #e6edf3; text-decoration-color: #e6edf3; background-color: #0d1117\">Code:</span><span style=\"background-color: #0d1117\">                                                                                                              </span>\n",
       "<span style=\"color: #e6edf3; text-decoration-color: #e6edf3; background-color: #0d1117\">```py</span><span style=\"background-color: #0d1117\">                                                                                                              </span>\n",
       "<span style=\"color: #79c0ff; text-decoration-color: #79c0ff; background-color: #0d1117; font-weight: bold\"># Step 1: Search for the AI regulation paper using a web search</span><span style=\"background-color: #0d1117\">                                                    </span>\n",
       "<span style=\"color: #e6edf3; text-decoration-color: #e6edf3; background-color: #0d1117\">web_results = web_search.forward(query=\"AI regulation June 2022\")</span><span style=\"background-color: #0d1117\">                                                  </span>\n",
       "<span style=\"color: #e6edf3; text-decoration-color: #e6edf3; background-color: #0d1117\">print(web_results)</span><span style=\"background-color: #0d1117\">                                                                                                 </span>\n",
       "<span style=\"color: #e6edf3; text-decoration-color: #e6edf3; background-color: #0d1117\">```&lt;end_code&gt;</span><span style=\"background-color: #0d1117\">                                                                                                      </span>\n",
       "</pre>\n"
      ],
      "text/plain": [
       "\u001b[1;3mOutput message of the LLM:\u001b[0m \u001b[38;2;212;183;2m────────────────────────────────────────────────────────────────────────────────────────\u001b[0m\n",
       "\u001b[38;2;230;237;243;48;2;13;17;23mThought:\u001b[0m\u001b[38;2;230;237;243;48;2;13;17;23m \u001b[0m\u001b[38;2;230;237;243;48;2;13;17;23mThe\u001b[0m\u001b[38;2;230;237;243;48;2;13;17;23m \u001b[0m\u001b[38;2;230;237;243;48;2;13;17;23mrepeated\u001b[0m\u001b[38;2;230;237;243;48;2;13;17;23m \u001b[0m\u001b[38;2;230;237;243;48;2;13;17;23merrors\u001b[0m\u001b[38;2;230;237;243;48;2;13;17;23m \u001b[0m\u001b[38;2;230;237;243;48;2;13;17;23msuggest\u001b[0m\u001b[38;2;230;237;243;48;2;13;17;23m \u001b[0m\u001b[38;2;230;237;243;48;2;13;17;23mthat\u001b[0m\u001b[38;2;230;237;243;48;2;13;17;23m \u001b[0m\u001b[38;2;230;237;243;48;2;13;17;23mthere\u001b[0m\u001b[38;2;230;237;243;48;2;13;17;23m \u001b[0m\u001b[38;2;230;237;243;48;2;13;17;23mmight\u001b[0m\u001b[38;2;230;237;243;48;2;13;17;23m \u001b[0m\u001b[38;2;230;237;243;48;2;13;17;23mbe\u001b[0m\u001b[38;2;230;237;243;48;2;13;17;23m \u001b[0m\u001b[38;2;230;237;243;48;2;13;17;23man\u001b[0m\u001b[38;2;230;237;243;48;2;13;17;23m \u001b[0m\u001b[38;2;230;237;243;48;2;13;17;23missue\u001b[0m\u001b[38;2;230;237;243;48;2;13;17;23m \u001b[0m\u001b[38;2;230;237;243;48;2;13;17;23mwith\u001b[0m\u001b[38;2;230;237;243;48;2;13;17;23m \u001b[0m\u001b[38;2;230;237;243;48;2;13;17;23maccessing\u001b[0m\u001b[38;2;230;237;243;48;2;13;17;23m \u001b[0m\u001b[38;2;230;237;243;48;2;13;17;23mthe\u001b[0m\u001b[38;2;230;237;243;48;2;13;17;23m \u001b[0m\u001b[38;2;230;237;243;48;2;13;17;23marXiv\u001b[0m\u001b[38;2;230;237;243;48;2;13;17;23m \u001b[0m\u001b[38;2;230;237;243;48;2;13;17;23msearch\u001b[0m\u001b[38;2;230;237;243;48;2;13;17;23m \u001b[0m\u001b[38;2;230;237;243;48;2;13;17;23mtool.\u001b[0m\u001b[38;2;230;237;243;48;2;13;17;23m \u001b[0m\u001b[38;2;230;237;243;48;2;13;17;23mLet's\u001b[0m\u001b[38;2;230;237;243;48;2;13;17;23m \u001b[0m\u001b[38;2;230;237;243;48;2;13;17;23mtry\u001b[0m\u001b[38;2;230;237;243;48;2;13;17;23m \u001b[0m\u001b[48;2;13;17;23m \u001b[0m\n",
       "\u001b[38;2;230;237;243;48;2;13;17;23musing\u001b[0m\u001b[38;2;230;237;243;48;2;13;17;23m \u001b[0m\u001b[38;2;230;237;243;48;2;13;17;23ma\u001b[0m\u001b[38;2;230;237;243;48;2;13;17;23m \u001b[0m\u001b[38;2;230;237;243;48;2;13;17;23mdifferent\u001b[0m\u001b[38;2;230;237;243;48;2;13;17;23m \u001b[0m\u001b[38;2;230;237;243;48;2;13;17;23mmethod\u001b[0m\u001b[38;2;230;237;243;48;2;13;17;23m \u001b[0m\u001b[38;2;230;237;243;48;2;13;17;23mto\u001b[0m\u001b[38;2;230;237;243;48;2;13;17;23m \u001b[0m\u001b[38;2;230;237;243;48;2;13;17;23mfind\u001b[0m\u001b[38;2;230;237;243;48;2;13;17;23m \u001b[0m\u001b[38;2;230;237;243;48;2;13;17;23mthe\u001b[0m\u001b[38;2;230;237;243;48;2;13;17;23m \u001b[0m\u001b[38;2;230;237;243;48;2;13;17;23mpaper.\u001b[0m\u001b[48;2;13;17;23m                                                                        \u001b[0m\n",
       "\u001b[48;2;13;17;23m                                                                                                                   \u001b[0m\n",
       "\u001b[38;2;230;237;243;48;2;13;17;23mCode:\u001b[0m\u001b[48;2;13;17;23m                                                                                                              \u001b[0m\n",
       "\u001b[38;2;230;237;243;48;2;13;17;23m```py\u001b[0m\u001b[48;2;13;17;23m                                                                                                              \u001b[0m\n",
       "\u001b[1;38;2;121;192;255;48;2;13;17;23m# Step 1: Search for the AI regulation paper using a web search\u001b[0m\u001b[48;2;13;17;23m                                                    \u001b[0m\n",
       "\u001b[38;2;230;237;243;48;2;13;17;23mweb_results\u001b[0m\u001b[38;2;230;237;243;48;2;13;17;23m \u001b[0m\u001b[38;2;230;237;243;48;2;13;17;23m=\u001b[0m\u001b[38;2;230;237;243;48;2;13;17;23m \u001b[0m\u001b[38;2;230;237;243;48;2;13;17;23mweb_search.forward(query=\"AI\u001b[0m\u001b[38;2;230;237;243;48;2;13;17;23m \u001b[0m\u001b[38;2;230;237;243;48;2;13;17;23mregulation\u001b[0m\u001b[38;2;230;237;243;48;2;13;17;23m \u001b[0m\u001b[38;2;230;237;243;48;2;13;17;23mJune\u001b[0m\u001b[38;2;230;237;243;48;2;13;17;23m \u001b[0m\u001b[38;2;230;237;243;48;2;13;17;23m2022\")\u001b[0m\u001b[48;2;13;17;23m                                                  \u001b[0m\n",
       "\u001b[38;2;230;237;243;48;2;13;17;23mprint(web_results)\u001b[0m\u001b[48;2;13;17;23m                                                                                                 \u001b[0m\n",
       "\u001b[38;2;230;237;243;48;2;13;17;23m```<end_code>\u001b[0m\u001b[48;2;13;17;23m                                                                                                      \u001b[0m\n"
      ]
     },
     "metadata": {},
     "output_type": "display_data"
    },
    {
     "data": {
      "text/html": [
       "<pre style=\"white-space:pre;overflow-x:auto;line-height:normal;font-family:Menlo,'DejaVu Sans Mono',consolas,'Courier New',monospace\"> ─ <span style=\"font-weight: bold\">Executing parsed code:</span> ──────────────────────────────────────────────────────────────────────────────────────── \n",
       "  <span style=\"color: #959077; text-decoration-color: #959077; background-color: #272822\"># Step 1: Search for the AI regulation paper using a web search</span><span style=\"background-color: #272822\">                                                </span>  \n",
       "  <span style=\"color: #f8f8f2; text-decoration-color: #f8f8f2; background-color: #272822\">web_results </span><span style=\"color: #ff4689; text-decoration-color: #ff4689; background-color: #272822\">=</span><span style=\"color: #f8f8f2; text-decoration-color: #f8f8f2; background-color: #272822\"> web_search</span><span style=\"color: #ff4689; text-decoration-color: #ff4689; background-color: #272822\">.</span><span style=\"color: #f8f8f2; text-decoration-color: #f8f8f2; background-color: #272822\">forward(query</span><span style=\"color: #ff4689; text-decoration-color: #ff4689; background-color: #272822\">=</span><span style=\"color: #e6db74; text-decoration-color: #e6db74; background-color: #272822\">\"AI regulation June 2022\"</span><span style=\"color: #f8f8f2; text-decoration-color: #f8f8f2; background-color: #272822\">)</span><span style=\"background-color: #272822\">                                              </span>  \n",
       "  <span style=\"color: #f8f8f2; text-decoration-color: #f8f8f2; background-color: #272822\">print(web_results)</span><span style=\"background-color: #272822\">                                                                                             </span>  \n",
       " ───────────────────────────────────────────────────────────────────────────────────────────────────────────────── \n",
       "</pre>\n"
      ],
      "text/plain": [
       " ─ \u001b[1mExecuting parsed code:\u001b[0m ──────────────────────────────────────────────────────────────────────────────────────── \n",
       "  \u001b[38;2;149;144;119;48;2;39;40;34m# Step 1: Search for the AI regulation paper using a web search\u001b[0m\u001b[48;2;39;40;34m                                                \u001b[0m  \n",
       "  \u001b[38;2;248;248;242;48;2;39;40;34mweb_results\u001b[0m\u001b[38;2;248;248;242;48;2;39;40;34m \u001b[0m\u001b[38;2;255;70;137;48;2;39;40;34m=\u001b[0m\u001b[38;2;248;248;242;48;2;39;40;34m \u001b[0m\u001b[38;2;248;248;242;48;2;39;40;34mweb_search\u001b[0m\u001b[38;2;255;70;137;48;2;39;40;34m.\u001b[0m\u001b[38;2;248;248;242;48;2;39;40;34mforward\u001b[0m\u001b[38;2;248;248;242;48;2;39;40;34m(\u001b[0m\u001b[38;2;248;248;242;48;2;39;40;34mquery\u001b[0m\u001b[38;2;255;70;137;48;2;39;40;34m=\u001b[0m\u001b[38;2;230;219;116;48;2;39;40;34m\"\u001b[0m\u001b[38;2;230;219;116;48;2;39;40;34mAI regulation June 2022\u001b[0m\u001b[38;2;230;219;116;48;2;39;40;34m\"\u001b[0m\u001b[38;2;248;248;242;48;2;39;40;34m)\u001b[0m\u001b[48;2;39;40;34m                                              \u001b[0m  \n",
       "  \u001b[38;2;248;248;242;48;2;39;40;34mprint\u001b[0m\u001b[38;2;248;248;242;48;2;39;40;34m(\u001b[0m\u001b[38;2;248;248;242;48;2;39;40;34mweb_results\u001b[0m\u001b[38;2;248;248;242;48;2;39;40;34m)\u001b[0m\u001b[48;2;39;40;34m                                                                                             \u001b[0m  \n",
       " ───────────────────────────────────────────────────────────────────────────────────────────────────────────────── \n"
      ]
     },
     "metadata": {},
     "output_type": "display_data"
    },
    {
     "data": {
      "text/html": [
       "<pre style=\"white-space:pre;overflow-x:auto;line-height:normal;font-family:Menlo,'DejaVu Sans Mono',consolas,'Courier New',monospace\"><span style=\"font-weight: bold\">Execution logs:</span>\n",
       "## Search Results\n",
       "\n",
       "[Republican bill bars states from regulating AI for 10 years - The \n",
       "Hill](https://thehill.com/policy/technology/5295706-republican-bill-blocks-states-ai-regulations/)\n",
       "A Republican tax bill released late Sunday seeks to block states from regulating artificial intelligence (AI) \n",
       "models for the next 10 years. The bill text from the House Energy and Commerce Co…\n",
       "\n",
       "[States Advance AI Regulations While Federal Approach Remains \n",
       "Unce](https://natlawreview.com/article/states-shifting-focus-ai-and-automated-decision-making)\n",
       "The Colorado Artificial Intelligence Act faces amendments as states balance innovation and regulation, while \n",
       "federal AI oversight ... 2022; NLR Blog; ... (The Texas legislature has until June 2 to ...\n",
       "\n",
       "[PDF](https://www.europarl.europa.eu/RegData/etudes/BRIE/2022/733544/EPRS_BRI(2022)733544_EN.pdf)\n",
       "PE 733.544 - June 2022 EN Artificial intelligence act and regulatory sandboxes . ... In April 2021, the European \n",
       "Commission presented a proposal laying down for a regulation harmonised rules on AI (the 'artificial intelligence \n",
       "act' or 'Aact'). I A cademics and stakeholders have commented on the proposal, touching, in particular, on issues \n",
       "...\n",
       "\n",
       "[The Artificial Intelligence and Data Act (AIDA) - \n",
       "Canada](https://ised-isde.canada.ca/site/innovation-better-canada/en/artificial-intelligence-and-data-act-aida-comp\n",
       "anion-document)\n",
       "In June 2022, the Government of Canada tabled the Artificial Intelligence and Data Act (AIDA) as part of Bill C-27,\n",
       "the Digital Charter Implementation Act, 2022. ... The Government will take an agile approach to AI regulation in \n",
       "the coming years by developing and evaluating regulations and guidelines in close collaboration with stakeholders \n",
       "on ...\n",
       "\n",
       "[Staying Ahead of AI Regulations—What Businesses Need to Know ... - \n",
       "Loeb](https://www.loeb.com/en/insights/publications/2022/06/staying-ahead-of-ai-regulations-what-businesses-need-to\n",
       "-know)\n",
       "The FTC Investigatory Focus on AI. In her June 16, 2022, Statement on Combatting Online Harms, Federal Trade \n",
       "Commission (FTC) Chairman Khan made clear that the FTC's investigatory focus on AI in order to prevent unlawful AI \n",
       "practices and abuses will move forward. ... Protecting Business in the Face of Increasing AI Regulations . For \n",
       "users ...\n",
       "\n",
       "Out: None\n",
       "</pre>\n"
      ],
      "text/plain": [
       "\u001b[1mExecution logs:\u001b[0m\n",
       "## Search Results\n",
       "\n",
       "[Republican bill bars states from regulating AI for 10 years - The \n",
       "Hill](https://thehill.com/policy/technology/5295706-republican-bill-blocks-states-ai-regulations/)\n",
       "A Republican tax bill released late Sunday seeks to block states from regulating artificial intelligence (AI) \n",
       "models for the next 10 years. The bill text from the House Energy and Commerce Co…\n",
       "\n",
       "[States Advance AI Regulations While Federal Approach Remains \n",
       "Unce](https://natlawreview.com/article/states-shifting-focus-ai-and-automated-decision-making)\n",
       "The Colorado Artificial Intelligence Act faces amendments as states balance innovation and regulation, while \n",
       "federal AI oversight ... 2022; NLR Blog; ... (The Texas legislature has until June 2 to ...\n",
       "\n",
       "[PDF](https://www.europarl.europa.eu/RegData/etudes/BRIE/2022/733544/EPRS_BRI(2022)733544_EN.pdf)\n",
       "PE 733.544 - June 2022 EN Artificial intelligence act and regulatory sandboxes . ... In April 2021, the European \n",
       "Commission presented a proposal laying down for a regulation harmonised rules on AI (the 'artificial intelligence \n",
       "act' or 'Aact'). I A cademics and stakeholders have commented on the proposal, touching, in particular, on issues \n",
       "...\n",
       "\n",
       "[The Artificial Intelligence and Data Act (AIDA) - \n",
       "Canada](https://ised-isde.canada.ca/site/innovation-better-canada/en/artificial-intelligence-and-data-act-aida-comp\n",
       "anion-document)\n",
       "In June 2022, the Government of Canada tabled the Artificial Intelligence and Data Act (AIDA) as part of Bill C-27,\n",
       "the Digital Charter Implementation Act, 2022. ... The Government will take an agile approach to AI regulation in \n",
       "the coming years by developing and evaluating regulations and guidelines in close collaboration with stakeholders \n",
       "on ...\n",
       "\n",
       "[Staying Ahead of AI Regulations—What Businesses Need to Know ... - \n",
       "Loeb](https://www.loeb.com/en/insights/publications/2022/06/staying-ahead-of-ai-regulations-what-businesses-need-to\n",
       "-know)\n",
       "The FTC Investigatory Focus on AI. In her June 16, 2022, Statement on Combatting Online Harms, Federal Trade \n",
       "Commission (FTC) Chairman Khan made clear that the FTC's investigatory focus on AI in order to prevent unlawful AI \n",
       "practices and abuses will move forward. ... Protecting Business in the Face of Increasing AI Regulations . For \n",
       "users ...\n",
       "\n",
       "Out: None\n"
      ]
     },
     "metadata": {},
     "output_type": "display_data"
    },
    {
     "data": {
      "text/html": [
       "<pre style=\"white-space:pre;overflow-x:auto;line-height:normal;font-family:Menlo,'DejaVu Sans Mono',consolas,'Courier New',monospace\"><span style=\"color: #7f7f7f; text-decoration-color: #7f7f7f\">[Step 3: Duration 65.22 seconds| Input tokens: 7,986 | Output tokens: 345]</span>\n",
       "</pre>\n"
      ],
      "text/plain": [
       "\u001b[2m[Step 3: Duration 65.22 seconds| Input tokens: 7,986 | Output tokens: 345]\u001b[0m\n"
      ]
     },
     "metadata": {},
     "output_type": "display_data"
    },
    {
     "data": {
      "text/html": [
       "<pre style=\"white-space:pre;overflow-x:auto;line-height:normal;font-family:Menlo,'DejaVu Sans Mono',consolas,'Courier New',monospace\"><span style=\"color: #d4b702; text-decoration-color: #d4b702\">━━━━━━━━━━━━━━━━━━━━━━━━━━━━━━━━━━━━━━━━━━━━━━━━━━━━━ </span><span style=\"font-weight: bold\">Step </span><span style=\"color: #008080; text-decoration-color: #008080; font-weight: bold\">4</span><span style=\"color: #d4b702; text-decoration-color: #d4b702\"> ━━━━━━━━━━━━━━━━━━━━━━━━━━━━━━━━━━━━━━━━━━━━━━━━━━━━━━</span>\n",
       "</pre>\n"
      ],
      "text/plain": [
       "\u001b[38;2;212;183;2m━━━━━━━━━━━━━━━━━━━━━━━━━━━━━━━━━━━━━━━━━━━━━━━━━━━━━ \u001b[0m\u001b[1mStep \u001b[0m\u001b[1;36m4\u001b[0m\u001b[38;2;212;183;2m ━━━━━━━━━━━━━━━━━━━━━━━━━━━━━━━━━━━━━━━━━━━━━━━━━━━━━━\u001b[0m\n"
      ]
     },
     "metadata": {},
     "output_type": "display_data"
    }
   ],
   "source": [
    "# 5. Ejecutar preguntas y recoger respuestas\n",
    "predictions = []\n",
    "for example in split_dataset_validation:\n",
    "    q = example[\"Question\"]\n",
    "    print(\"Agent started running...\")\n",
    "    pred = agent.run(q)\n",
    "    predictions.append(str(pred).strip())\n",
    "    print(\"Agent finished running...\")\n",
    "    print(f\"QUESTION: {q}\\nANSWER: {pred}\\n\")"
   ]
  },
  {
   "cell_type": "code",
   "execution_count": 24,
   "id": "9dddd058",
   "metadata": {},
   "outputs": [
    {
     "name": "stdout",
     "output_type": "stream",
     "text": [
      "Exact‑match accuracy on GAIA dev: 0.00%\n"
     ]
    }
   ],
   "source": [
    "# 6. Calcular exact‑match accuracy\n",
    "gold = [ex[\"Final answer\"].strip() for ex in split_dataset_validation]\n",
    "correct = sum(1 for p, g in zip(predictions, gold) if p == g)\n",
    "acc = correct / len(gold)\n",
    "print(f\"Exact‑match accuracy on GAIA dev: {acc:.2%}\")"
   ]
  }
 ],
 "metadata": {
  "kernelspec": {
   "display_name": "HF_AGENTS_COURSE_ENV",
   "language": "python",
   "name": "python3"
  },
  "language_info": {
   "codemirror_mode": {
    "name": "ipython",
    "version": 3
   },
   "file_extension": ".py",
   "mimetype": "text/x-python",
   "name": "python",
   "nbconvert_exporter": "python",
   "pygments_lexer": "ipython3",
   "version": "3.12.9"
  }
 },
 "nbformat": 4,
 "nbformat_minor": 5
}
