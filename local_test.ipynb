{
 "cells": [
  {
   "cell_type": "code",
   "execution_count": null,
   "id": "7c34782b",
   "metadata": {},
   "outputs": [],
   "source": [
    "import os\n",
    "from dotenv import load_dotenv\n",
    "from datasets import load_dataset\n",
    "from smolagents import CodeAgent, InferenceClientModel ###LiteLLMModel, HfApiModel\n",
    "import yaml\n",
    "from tools.final_answer import FinalAnswerTool\n",
    "from tools.math_operations import MathOperationsTool\n",
    "from tools.visit_webpage import VisitWebpageTool\n",
    "from tools.web_search import DuckDuckGoSearchTool\n",
    "from tools.wikipedia_search import WikipediaSearchTool\n",
    "from tools.arxiv_search import ArxivSearchTool\n",
    "from tools.rag_search import RAGSearchTool\n",
    "from tools.code_execution import CodeExecutionTool\n",
    "from tools.document_processing import DocumentProcessingTool\n",
    "from tools.image_processing import ImageProcessingTool\n",
    "from tools.web_scraping import WebScrapingTool\n",
    "from tools.youtube_processing import YouTubeVideoProcessorTool"
   ]
  },
  {
   "cell_type": "code",
   "execution_count": null,
   "id": "7270d888",
   "metadata": {},
   "outputs": [],
   "source": [
    "visit_webpage = VisitWebpageTool()\n",
    "web_search = DuckDuckGoSearchTool(max_results=5)\n",
    "math_tools = MathOperationsTool()\n",
    "final_answer = FinalAnswerTool()\n",
    "wikipedia_search = WikipediaSearchTool(load_max_docs=2)\n",
    "arxiv_search = ArxivSearchTool(load_max_docs=3)\n",
    "rag_search = RAGSearchTool(persist_dir=\"rag_db\")\n",
    "code_execution = CodeExecutionTool()\n",
    "document_processing = DocumentProcessingTool(temp_dir=\"doc_processing\")\n",
    "image_generation_tool = ImageProcessingTool()\n",
    "web_scraping = WebScrapingTool()\n",
    "youtube_processing = YouTubeVideoProcessorTool()"
   ]
  },
  {
   "cell_type": "code",
   "execution_count": null,
   "id": "8805ecfd",
   "metadata": {},
   "outputs": [],
   "source": [
    "customs_tools = [    \n",
    "    visit_webpage, \n",
    "    web_search, \n",
    "    math_tools,\n",
    "    wikipedia_search, \n",
    "    arxiv_search,\n",
    "    rag_search,\n",
    "    web_scraping,\n",
    "    code_execution, \n",
    "    document_processing, \n",
    "    image_generation_tool,\n",
    "    final_answer\n",
    "]"
   ]
  },
  {
   "cell_type": "code",
   "execution_count": null,
   "id": "41630d9c",
   "metadata": {},
   "outputs": [],
   "source": [
    "# Inicialize HuggingFace agent\n",
    "load_dotenv()\n",
    "# Get the Hugging Face API key from the environment\n",
    "api_key = os.getenv(\"HUGGINGFACE_API_KEY\")\n",
    "# Check that the key was loaded\n",
    "if not api_key:\n",
    "    raise ValueError(\"HUGGINGFACE_API_KEY not found. Please check your .env file.\")\n",
    "HFModel = InferenceClientModel(\n",
    "    max_tokens=2096,\n",
    "    temperature=0,\n",
    "    model_id='deepseek-ai/DeepSeek-R1-Distill-Qwen-32B',\n",
    "    provider=\"hf-inference\",\n",
    "    api_key=api_key\n",
    ")\n"
   ]
  },
  {
   "cell_type": "code",
   "execution_count": null,
   "id": "04414dd8",
   "metadata": {},
   "outputs": [],
   "source": [
    "# Cargar las plantillas de los prompts\n",
    "with open(\"prompt.yaml\", 'r') as stream:\n",
    "    prompt_templates = yaml.safe_load(stream)"
   ]
  },
  {
   "cell_type": "code",
   "execution_count": null,
   "id": "569e8967",
   "metadata": {},
   "outputs": [],
   "source": [
    " #3. Inicializar modelo Ollama local\n",
    "from smolagents import LiteLLMModel\n",
    "local_model = LiteLLMModel(\n",
    "    model_id=\"ollama/qwen2.5-coder:7b\",    \n",
    "    #model_id=\"ollama/gemma3:1b\",    \n",
    "    api_base=\"http://localhost:11434\",\n",
    "    temperature=0,\n",
    "    max_tokens=2096,\n",
    "    request_timeout=900,\n",
    ")"
   ]
  },
  {
   "cell_type": "code",
   "execution_count": null,
   "id": "afcfdb64",
   "metadata": {},
   "outputs": [],
   "source": [
    "# 4. Crear agente con el modelo local\n",
    "agent = CodeAgent(\n",
    "    model=local_model,\n",
    "    #model = HFModel,\n",
    "    tools = customs_tools, \n",
    "    #additional_authorized_imports = additional_imports,\n",
    "    #prompt_templates=prompt_templates,    \n",
    "    verbosity_level = 2,\n",
    "    max_steps=20,\n",
    ")"
   ]
  },
  {
   "cell_type": "code",
   "execution_count": null,
   "id": "b9e8227a",
   "metadata": {},
   "outputs": [],
   "source": [
    "print(agent.prompt_templates[\"system_prompt\"])\n"
   ]
  },
  {
   "cell_type": "code",
   "execution_count": null,
   "id": "7c75e5e9",
   "metadata": {},
   "outputs": [],
   "source": [
    "dataset_validation = load_dataset(\n",
    "    \"gaia-benchmark/GAIA\",\n",
    "    '2023_all',    \n",
    "    split=\"validation\",\n",
    "    token=os.getenv(\"HF_TOKEN\"),    \n",
    "    trust_remote_code=True,\n",
    ")"
   ]
  },
  {
   "cell_type": "code",
   "execution_count": null,
   "id": "7bd8c9d8",
   "metadata": {},
   "outputs": [],
   "source": [
    "#dataset_test = load_dataset(\n",
    "#    \"gaia-benchmark/GAIA\",\n",
    "#    '2023_all',    \n",
    "#    split=\"test\",\n",
    "#    token=os.getenv(\"HF_TOKEN\"),\n",
    "#    trust_remote_code=True,\n",
    "#)"
   ]
  },
  {
   "cell_type": "code",
   "execution_count": null,
   "id": "01adacdb",
   "metadata": {},
   "outputs": [],
   "source": [
    "print(\"---- Test set ----\")\n",
    "indices = list(range(1))\n",
    "split_dataset_validation = dataset_validation.select(indices)\n",
    "for example in split_dataset_validation:\n",
    "    print(example)  "
   ]
  },
  {
   "cell_type": "code",
   "execution_count": null,
   "id": "48123d3a",
   "metadata": {},
   "outputs": [],
   "source": [
    "# 5. Ejecutar preguntas y recoger respuestas\n",
    "predictions = []\n",
    "for example in split_dataset_validation:\n",
    "    q = example[\"Question\"]\n",
    "    print(\"Agent started running...\")\n",
    "    pred = agent.run(q)\n",
    "    predictions.append(str(pred).strip())\n",
    "    print(\"Agent finished running...\")\n",
    "    print(f\"QUESTION: {q}\\nANSWER: {pred}\\n\")"
   ]
  },
  {
   "cell_type": "code",
   "execution_count": null,
   "id": "9dddd058",
   "metadata": {},
   "outputs": [],
   "source": [
    "# 6. Calcular exact‑match accuracy\n",
    "gold = [ex[\"Final answer\"].strip() for ex in split_dataset_validation]\n",
    "correct = sum(1 for p, g in zip(predictions, gold) if p == g)\n",
    "acc = correct / len(gold)\n",
    "print(f\"Exact‑match accuracy on GAIA dev: {acc:.2%}\")"
   ]
  },
  {
   "cell_type": "markdown",
   "id": "4c041655",
   "metadata": {},
   "source": [
    "\n",
    "************ LOCAL TEST **************\n"
   ]
  },
  {
   "cell_type": "code",
   "execution_count": null,
   "id": "9295e86a",
   "metadata": {},
   "outputs": [],
   "source": [
    "q = \"According to the World Bank, which countries had gross savings of over 35% of GDP for every year in the period 2001-2010? Give your answer as a comma-separated list of countries in alphabetical order. Use the countries most common names in english when answering.\"\n",
    "pred = agent.run(q)\n",
    "print(f\"QUESTION: {q}\\nANSWER: {pred}\\n\")\n"
   ]
  },
  {
   "cell_type": "code",
   "execution_count": null,
   "id": "86405ca5",
   "metadata": {},
   "outputs": [],
   "source": [
    "wikipedia_info = wikipedia_search(query=\"Mercedes Sosa\")\n",
    "print(wikipedia_info)"
   ]
  },
  {
   "cell_type": "code",
   "execution_count": null,
   "id": "af6443d2",
   "metadata": {},
   "outputs": [],
   "source": [
    "# Testing the tools\n",
    "# arxiv_search\n",
    "papers = arxiv_search(query=\"AI regulation submission date:2022-06\")\n",
    "print(\"arxiv_search sucess\")\n",
    "\n",
    "# rag_search\n",
    "rag_result = rag_search(\n",
    "    action=\"add\",\n",
    "    content=papers,\n",
    "    metadata={\"topic\": \"transformers\", \"subtopic\": \"time_series\", \"year\": \"2023\"}\n",
    ")\n",
    "print(\"rag_search sucess\")\n",
    "\n",
    "# document_processing\n",
    "doc_analysis = document_processing(\n",
    "    action=\"analyze_pdf\",\n",
    "    content=\"financial_report.pdf\",\n",
    "    query=\"What are the total revenue figures for 2021 and 2022?\"\n",
    ")\n",
    "print(\"document_processing sucess\")\n",
    "\n",
    "# math_tools\n",
    "growth = math_tools(\n",
    "    operation=\"subtract\",\n",
    "    a=1.2,\n",
    "    b=1.5\n",
    ")\n",
    "print(\"math_tools sucess\")\n",
    "\n",
    "# internet_search\n",
    "search_results = web_search(query=\"latest deep learning frameworks comparison 2023\")\n",
    "print(\"internet_search sucess\")\n",
    "\n",
    "# web_scraping\n",
    "scrapping_content = web_scraping(\n",
    "    url=\"https://www.datacamp.com/tutorial/how-transformers-work\",\n",
    "    action=\"element\",\n",
    "    selector=\"table.comparison\",\n",
    "    attributes=[\"class\"]\n",
    ")\n",
    "print(\"web_scraping sucess\")\n",
    "\n",
    "# wikipedia_search\n",
    "wikipedia_info = wikipedia_search(query=\"Mercedes Sosa\")\n",
    "print(\"wikipedia_search sucess\")\n",
    "\n",
    "# code_execution\n",
    "code = '''\n",
    "def divide_numbers(a, b):\n",
    "    if b == 0:\n",
    "        raise ValueError(\"Cannot divide by zero\")\n",
    "    return a / b\n",
    "    \n",
    "# Test the function\n",
    "print(divide_numbers(10, 2))\n",
    "print(divide_numbers(5, 5))\n",
    "'''\n",
    "result = code_execution(code=code)\n",
    "print(\"code_execution sucess\")\n",
    "\n",
    "# document_processing\n",
    "text = document_processing(\n",
    "    action=\"ocr\",\n",
    "    content=\"presentation.jpg\"\n",
    ")\n",
    "print(\"document_processing sucess\")\n",
    "\n",
    "text = final_answer(\"Based on the financial report, the total revenues for 2021 and 2022 is 1.2 and 1.5 respectively.\")\n",
    "print(\"final_answer sucess\")"
   ]
  },
  {
   "cell_type": "code",
   "execution_count": null,
   "id": "1248670c",
   "metadata": {},
   "outputs": [],
   "source": [
    "#url = \"https://en.wikipedia.org/wiki/List_of_secretaries_of_Homeland_Security\"                                     \n",
    "url = \"https://data.worldbank.org/indicator/NY.GDS.TOTL.ZS\"\n",
    "web_content = visit_webpage.forward(url=url)                                                                             \n",
    "print(web_content)\n"
   ]
  },
  {
   "cell_type": "code",
   "execution_count": null,
   "id": "b4869b08",
   "metadata": {},
   "outputs": [],
   "source": [
    "query = \"List of United States secretaries of homeland security before April 2019\"                               \n",
    "search_results = web_search.forward(query=query)                                                                 \n",
    "print(search_results)  # Use print to output important information for the next step.       "
   ]
  }
 ],
 "metadata": {
  "kernelspec": {
   "display_name": "HF_AGENTS_COURSE_ENV",
   "language": "python",
   "name": "python3"
  },
  "language_info": {
   "codemirror_mode": {
    "name": "ipython",
    "version": 3
   },
   "file_extension": ".py",
   "mimetype": "text/x-python",
   "name": "python",
   "nbconvert_exporter": "python",
   "pygments_lexer": "ipython3",
   "version": "3.12.9"
  }
 },
 "nbformat": 4,
 "nbformat_minor": 5
}
